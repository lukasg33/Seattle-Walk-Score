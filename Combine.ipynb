{
 "cells": [
  {
   "cell_type": "code",
   "execution_count": 9,
   "id": "a2f7081d-fc7c-4887-845e-96befa615e45",
   "metadata": {},
   "outputs": [],
   "source": [
    "# import packages\n",
    "import pandas as pd\n",
    "import os"
   ]
  },
  {
   "cell_type": "code",
   "execution_count": 10,
   "id": "5a76a7ba-4839-402d-8f4c-4210fcfb4328",
   "metadata": {},
   "outputs": [
    {
     "data": {
      "text/plain": [
       "'/home/jovyan/ML Problem Sets/PS4/Data'"
      ]
     },
     "execution_count": 10,
     "metadata": {},
     "output_type": "execute_result"
    }
   ],
   "source": [
    "os.getcwd()"
   ]
  },
  {
   "cell_type": "code",
   "execution_count": 11,
   "id": "1ab86f99-2951-4d1b-a868-51f22b5f6d16",
   "metadata": {},
   "outputs": [
    {
     "data": {
      "text/html": [
       "<div>\n",
       "<style scoped>\n",
       "    .dataframe tbody tr th:only-of-type {\n",
       "        vertical-align: middle;\n",
       "    }\n",
       "\n",
       "    .dataframe tbody tr th {\n",
       "        vertical-align: top;\n",
       "    }\n",
       "\n",
       "    .dataframe thead th {\n",
       "        text-align: right;\n",
       "    }\n",
       "</style>\n",
       "<table border=\"1\" class=\"dataframe\">\n",
       "  <thead>\n",
       "    <tr style=\"text-align: right;\">\n",
       "      <th></th>\n",
       "      <th>lat</th>\n",
       "      <th>lon</th>\n",
       "      <th>GEOID</th>\n",
       "    </tr>\n",
       "  </thead>\n",
       "  <tbody>\n",
       "    <tr>\n",
       "      <th>0</th>\n",
       "      <td>47.648701</td>\n",
       "      <td>-122.362286</td>\n",
       "      <td>53033005901</td>\n",
       "    </tr>\n",
       "  </tbody>\n",
       "</table>\n",
       "</div>"
      ],
      "text/plain": [
       "         lat         lon        GEOID\n",
       "0  47.648701 -122.362286  53033005901"
      ]
     },
     "execution_count": 11,
     "metadata": {},
     "output_type": "execute_result"
    }
   ],
   "source": [
    "GeoCode = pd.read_csv('master_walk_score_geoid.csv', index_col=0)\n",
    "GeoCode.head(1)"
   ]
  },
  {
   "cell_type": "code",
   "execution_count": 18,
   "id": "6f1faad6-bd03-4eed-aba7-8322c5a96f80",
   "metadata": {},
   "outputs": [
    {
     "data": {
      "text/plain": [
       "(1000, 3)"
      ]
     },
     "execution_count": 18,
     "metadata": {},
     "output_type": "execute_result"
    }
   ],
   "source": [
    "GeoCode.shape"
   ]
  },
  {
   "cell_type": "code",
   "execution_count": 12,
   "id": "8483398e-845d-4c15-8c67-3e8a99bf6670",
   "metadata": {},
   "outputs": [
    {
     "data": {
      "text/html": [
       "<div>\n",
       "<style scoped>\n",
       "    .dataframe tbody tr th:only-of-type {\n",
       "        vertical-align: middle;\n",
       "    }\n",
       "\n",
       "    .dataframe tbody tr th {\n",
       "        vertical-align: top;\n",
       "    }\n",
       "\n",
       "    .dataframe thead th {\n",
       "        text-align: right;\n",
       "    }\n",
       "</style>\n",
       "<table border=\"1\" class=\"dataframe\">\n",
       "  <thead>\n",
       "    <tr style=\"text-align: right;\">\n",
       "      <th></th>\n",
       "      <th>lat</th>\n",
       "      <th>lon</th>\n",
       "      <th>restaurant_count</th>\n",
       "      <th>school_count</th>\n",
       "      <th>park_count</th>\n",
       "      <th>bus_station_count</th>\n",
       "      <th>supermarket_count</th>\n",
       "      <th>pub_count</th>\n",
       "      <th>parkwide_count</th>\n",
       "      <th>restaurantwide_count</th>\n",
       "    </tr>\n",
       "  </thead>\n",
       "  <tbody>\n",
       "    <tr>\n",
       "      <th>0</th>\n",
       "      <td>47.648701</td>\n",
       "      <td>-122.362286</td>\n",
       "      <td>10</td>\n",
       "      <td>1</td>\n",
       "      <td>5</td>\n",
       "      <td>3</td>\n",
       "      <td>1</td>\n",
       "      <td>9</td>\n",
       "      <td>10</td>\n",
       "      <td>10</td>\n",
       "    </tr>\n",
       "  </tbody>\n",
       "</table>\n",
       "</div>"
      ],
      "text/plain": [
       "         lat         lon  restaurant_count  school_count  park_count  \\\n",
       "0  47.648701 -122.362286                10             1           5   \n",
       "\n",
       "   bus_station_count  supermarket_count  pub_count  parkwide_count  \\\n",
       "0                  3                  1          9              10   \n",
       "\n",
       "   restaurantwide_count  \n",
       "0                    10  "
      ]
     },
     "execution_count": 12,
     "metadata": {},
     "output_type": "execute_result"
    }
   ],
   "source": [
    "AmCount = pd.read_csv('master_walk_score_amm_count.csv', index_col=0)\n",
    "AmCount.head(1)"
   ]
  },
  {
   "cell_type": "code",
   "execution_count": 17,
   "id": "5b0332a7-7e83-446c-a71d-749d28cb5183",
   "metadata": {},
   "outputs": [
    {
     "data": {
      "text/plain": [
       "(1000, 10)"
      ]
     },
     "execution_count": 17,
     "metadata": {},
     "output_type": "execute_result"
    }
   ],
   "source": [
    "AmCount.shape"
   ]
  },
  {
   "cell_type": "code",
   "execution_count": 16,
   "id": "f4452604-6d08-4b5e-8b04-e1ff73a4ba1e",
   "metadata": {},
   "outputs": [
    {
     "name": "stdout",
     "output_type": "stream",
     "text": [
      "(1000, 6)\n"
     ]
    }
   ],
   "source": [
    "Stats = pd.read_csv('master_walk_score_stats.csv', index_col=0)\n",
    "Stats.head()"
   ]
  },
  {
   "cell_type": "code",
   "execution_count": 21,
   "id": "6534c1c7-6b07-4b16-abd9-84ac1cec74e7",
   "metadata": {},
   "outputs": [
    {
     "data": {
      "text/html": [
       "<div>\n",
       "<style scoped>\n",
       "    .dataframe tbody tr th:only-of-type {\n",
       "        vertical-align: middle;\n",
       "    }\n",
       "\n",
       "    .dataframe tbody tr th {\n",
       "        vertical-align: top;\n",
       "    }\n",
       "\n",
       "    .dataframe thead th {\n",
       "        text-align: right;\n",
       "    }\n",
       "</style>\n",
       "<table border=\"1\" class=\"dataframe\">\n",
       "  <thead>\n",
       "    <tr style=\"text-align: right;\">\n",
       "      <th></th>\n",
       "      <th>lat</th>\n",
       "      <th>lon</th>\n",
       "      <th>GEOID</th>\n",
       "      <th>restaurant_count</th>\n",
       "      <th>school_count</th>\n",
       "      <th>park_count</th>\n",
       "      <th>bus_station_count</th>\n",
       "      <th>supermarket_count</th>\n",
       "      <th>pub_count</th>\n",
       "      <th>parkwide_count</th>\n",
       "      <th>restaurantwide_count</th>\n",
       "      <th>intersection_count</th>\n",
       "      <th>streets_per_node_avg</th>\n",
       "      <th>circuity_avg</th>\n",
       "      <th>street_length_avg</th>\n",
       "    </tr>\n",
       "  </thead>\n",
       "  <tbody>\n",
       "    <tr>\n",
       "      <th>0</th>\n",
       "      <td>47.648701</td>\n",
       "      <td>-122.362286</td>\n",
       "      <td>53033005901</td>\n",
       "      <td>10</td>\n",
       "      <td>1</td>\n",
       "      <td>5</td>\n",
       "      <td>3</td>\n",
       "      <td>1</td>\n",
       "      <td>9</td>\n",
       "      <td>10</td>\n",
       "      <td>10</td>\n",
       "      <td>169</td>\n",
       "      <td>3.000000</td>\n",
       "      <td>1.034645</td>\n",
       "      <td>31.606547</td>\n",
       "    </tr>\n",
       "    <tr>\n",
       "      <th>1</th>\n",
       "      <td>47.525235</td>\n",
       "      <td>-122.308352</td>\n",
       "      <td>53033010900</td>\n",
       "      <td>8</td>\n",
       "      <td>1</td>\n",
       "      <td>0</td>\n",
       "      <td>6</td>\n",
       "      <td>0</td>\n",
       "      <td>0</td>\n",
       "      <td>10</td>\n",
       "      <td>8</td>\n",
       "      <td>21</td>\n",
       "      <td>3.000000</td>\n",
       "      <td>1.061660</td>\n",
       "      <td>43.091667</td>\n",
       "    </tr>\n",
       "    <tr>\n",
       "      <th>2</th>\n",
       "      <td>47.694938</td>\n",
       "      <td>-122.304282</td>\n",
       "      <td>53033002100</td>\n",
       "      <td>2</td>\n",
       "      <td>5</td>\n",
       "      <td>2</td>\n",
       "      <td>7</td>\n",
       "      <td>0</td>\n",
       "      <td>2</td>\n",
       "      <td>10</td>\n",
       "      <td>10</td>\n",
       "      <td>71</td>\n",
       "      <td>2.680851</td>\n",
       "      <td>1.026217</td>\n",
       "      <td>44.864357</td>\n",
       "    </tr>\n",
       "    <tr>\n",
       "      <th>3</th>\n",
       "      <td>47.558749</td>\n",
       "      <td>-122.308561</td>\n",
       "      <td>53033010402</td>\n",
       "      <td>2</td>\n",
       "      <td>4</td>\n",
       "      <td>3</td>\n",
       "      <td>3</td>\n",
       "      <td>1</td>\n",
       "      <td>0</td>\n",
       "      <td>10</td>\n",
       "      <td>10</td>\n",
       "      <td>18</td>\n",
       "      <td>2.142857</td>\n",
       "      <td>1.052310</td>\n",
       "      <td>47.683353</td>\n",
       "    </tr>\n",
       "    <tr>\n",
       "      <th>4</th>\n",
       "      <td>47.617798</td>\n",
       "      <td>-122.353811</td>\n",
       "      <td>53033008003</td>\n",
       "      <td>10</td>\n",
       "      <td>2</td>\n",
       "      <td>10</td>\n",
       "      <td>3</td>\n",
       "      <td>5</td>\n",
       "      <td>10</td>\n",
       "      <td>10</td>\n",
       "      <td>10</td>\n",
       "      <td>341</td>\n",
       "      <td>3.303867</td>\n",
       "      <td>1.052054</td>\n",
       "      <td>26.141254</td>\n",
       "    </tr>\n",
       "  </tbody>\n",
       "</table>\n",
       "</div>"
      ],
      "text/plain": [
       "         lat         lon        GEOID  restaurant_count  school_count  \\\n",
       "0  47.648701 -122.362286  53033005901                10             1   \n",
       "1  47.525235 -122.308352  53033010900                 8             1   \n",
       "2  47.694938 -122.304282  53033002100                 2             5   \n",
       "3  47.558749 -122.308561  53033010402                 2             4   \n",
       "4  47.617798 -122.353811  53033008003                10             2   \n",
       "\n",
       "   park_count  bus_station_count  supermarket_count  pub_count  \\\n",
       "0           5                  3                  1          9   \n",
       "1           0                  6                  0          0   \n",
       "2           2                  7                  0          2   \n",
       "3           3                  3                  1          0   \n",
       "4          10                  3                  5         10   \n",
       "\n",
       "   parkwide_count  restaurantwide_count  intersection_count  \\\n",
       "0              10                    10                 169   \n",
       "1              10                     8                  21   \n",
       "2              10                    10                  71   \n",
       "3              10                    10                  18   \n",
       "4              10                    10                 341   \n",
       "\n",
       "   streets_per_node_avg  circuity_avg  street_length_avg  \n",
       "0              3.000000      1.034645          31.606547  \n",
       "1              3.000000      1.061660          43.091667  \n",
       "2              2.680851      1.026217          44.864357  \n",
       "3              2.142857      1.052310          47.683353  \n",
       "4              3.303867      1.052054          26.141254  "
      ]
     },
     "execution_count": 21,
     "metadata": {},
     "output_type": "execute_result"
    }
   ],
   "source": [
    "master_combined = GeoCode.merge(AmCount).merge(Stats)\n",
    "master_combined.head()"
   ]
  },
  {
   "cell_type": "code",
   "execution_count": 22,
   "id": "f6d35ddf-55c0-49a5-a9f9-b62c31ef5a43",
   "metadata": {},
   "outputs": [
    {
     "data": {
      "text/plain": [
       "(1000, 15)"
      ]
     },
     "execution_count": 22,
     "metadata": {},
     "output_type": "execute_result"
    }
   ],
   "source": [
    "master_combined.shape"
   ]
  },
  {
   "cell_type": "code",
   "execution_count": 24,
   "id": "b30f7514-93fe-48fd-985a-9096c2489286",
   "metadata": {},
   "outputs": [],
   "source": [
    "master_combined.to_csv('master_combined.csv')"
   ]
  },
  {
   "cell_type": "code",
   "execution_count": null,
   "id": "05164966-80ce-4125-b2a2-3d4bfa8f4405",
   "metadata": {},
   "outputs": [],
   "source": []
  }
 ],
 "metadata": {
  "kernelspec": {
   "display_name": "Python 3 (ipykernel)",
   "language": "python",
   "name": "python3"
  },
  "language_info": {
   "codemirror_mode": {
    "name": "ipython",
    "version": 3
   },
   "file_extension": ".py",
   "mimetype": "text/x-python",
   "name": "python",
   "nbconvert_exporter": "python",
   "pygments_lexer": "ipython3",
   "version": "3.9.7"
  }
 },
 "nbformat": 4,
 "nbformat_minor": 5
}
