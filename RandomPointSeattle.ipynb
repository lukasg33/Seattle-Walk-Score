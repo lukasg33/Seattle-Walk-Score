{
 "cells": [
  {
   "cell_type": "code",
   "execution_count": 1,
   "id": "fafaab71-aaec-49df-85b7-78fccf1a1284",
   "metadata": {},
   "outputs": [],
   "source": [
    "# import packages\n",
    "import pandas as pd\n",
    "import json\n",
    "import osmnx as ox\n",
    "import requests\n",
    "import random\n",
    "import time"
   ]
  },
  {
   "cell_type": "code",
   "execution_count": 2,
   "id": "11ab590d-fd80-48ae-88e5-0fe3276a91e3",
   "metadata": {},
   "outputs": [],
   "source": [
    "# function to generate random lat lon coords within a closed range\n",
    "def random_coords(center_coords, count):\n",
    "    lat = []\n",
    "    lon = []\n",
    "    \n",
    "    for i in range(count):\n",
    "        #set random generator\n",
    "        lat.append(random.uniform(center_coords[0]-0.1, center_coords[0]+0.1))\n",
    "        lon.append(random.uniform(center_coords[1]-0.1, center_coords[1]+0.1))\n",
    "    \n",
    "    return lat, lon"
   ]
  },
  {
   "cell_type": "code",
   "execution_count": 3,
   "id": "8231b86c-a830-4758-a908-412e3cf4d10d",
   "metadata": {},
   "outputs": [],
   "source": [
    "# determine center coords to be downtown Seattle\n",
    "center_coords = [47.608013, -122.335167]\n",
    "\n",
    "lat, lon = random_coords(center_coords, 1000)"
   ]
  },
  {
   "cell_type": "code",
   "execution_count": 4,
   "id": "bea7ee01-7cb8-4374-b921-8411e6e1ffff",
   "metadata": {},
   "outputs": [
    {
     "name": "stdout",
     "output_type": "stream",
     "text": [
      "<class 'pandas.core.frame.DataFrame'>\n",
      "RangeIndex: 1000 entries, 0 to 999\n",
      "Data columns (total 2 columns):\n",
      " #   Column  Non-Null Count  Dtype  \n",
      "---  ------  --------------  -----  \n",
      " 0   lat     1000 non-null   float64\n",
      " 1   lon     1000 non-null   float64\n",
      "dtypes: float64(2)\n",
      "memory usage: 15.8 KB\n"
     ]
    },
    {
     "data": {
      "text/plain": [
       "(1000, 2)"
      ]
     },
     "execution_count": 4,
     "metadata": {},
     "output_type": "execute_result"
    }
   ],
   "source": [
    "# create dataframe no walk score\n",
    "new = pd.DataFrame(list(zip(lat, lon)),  columns=['lat', 'lon'])\n",
    "new.info()\n",
    "new.head(1)\n",
    "new.shape"
   ]
  },
  {
   "cell_type": "code",
   "execution_count": 6,
   "id": "9ac53d30-10cf-4865-9f50-7a9444414029",
   "metadata": {},
   "outputs": [],
   "source": [
    "new.to_csv('Data/master_walk_score.csv')"
   ]
  },
  {
   "cell_type": "code",
   "execution_count": null,
   "id": "2eb44611-0b87-4005-bd91-de5f000f781c",
   "metadata": {},
   "outputs": [],
   "source": []
  }
 ],
 "metadata": {
  "kernelspec": {
   "display_name": "Python 3 (ipykernel)",
   "language": "python",
   "name": "python3"
  },
  "language_info": {
   "codemirror_mode": {
    "name": "ipython",
    "version": 3
   },
   "file_extension": ".py",
   "mimetype": "text/x-python",
   "name": "python",
   "nbconvert_exporter": "python",
   "pygments_lexer": "ipython3",
   "version": "3.9.7"
  }
 },
 "nbformat": 4,
 "nbformat_minor": 5
}
