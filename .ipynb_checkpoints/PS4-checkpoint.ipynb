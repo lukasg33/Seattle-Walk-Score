{
 "cells": [
  {
   "cell_type": "markdown",
   "id": "28e10f88-8e92-4e52-935b-493bb85a4650",
   "metadata": {},
   "source": [
    "### Creating A Model to Predict Walk Scores in Seattle"
   ]
  },
  {
   "cell_type": "markdown",
   "id": "fda8ce76-70ff-4c6e-b567-68883f639c5d",
   "metadata": {},
   "source": [
    "The dataset I'm using is based on 1000 random coordinates within the Seattle city limits. Based on these 1000 random coordinates, I merged on demographic data from the census tract that encompasses the coordinates. To round out the feature set, I definied a ammenity and distance combinations that I thought would be imporant for walkability. I queried these combinations using the Location IQ API. Then I tried to evaluate the surrounding street network within .25 km these points. I used the Open Street Maps API for this. Lastly, I merged information about the zoning features of the randomly generated points from data downloaded from the City of Seattle. "
   ]
  },
  {
   "cell_type": "markdown",
   "id": "7c02a93f-b329-404b-a84a-1a216279edeb",
   "metadata": {},
   "source": [
    "Census Tract Features:\n",
    "- Population\n",
    "- Population Density\n",
    "\n",
    "Ammenity and Distances:\n",
    "- Number of restaurants within 1 km\n",
    "- Number of schools within 1 km\n",
    "- Number of parks within 1 km\n",
    "- Number of Bus Stations within 10 km\n",
    "- Number of Super Markets within 1 km\n",
    "- Number of pubs within 1 km\n",
    "- Number of parks within 2.5 km\n",
    "- Number of restaurants within 1.5 km\n",
    "\n",
    "Surrounding Street Network:\n",
    "- Number of intersections\n",
    "- Mean number of streets that emanate from each node\n",
    "- Circuity is the sum of edge lengths divided by the sum of straight-line distances between edge endpoints. Calculates straight-line distance as euclidean distance if projected or great-circle distance if unprojected.\n",
    "- Street Length Average: Total street segment length / count of street segments\n",
    "- Distance to closest highway \n",
    "- Distance to closest primary road \n",
    "- Distance to closest secondary road \n",
    "- Distance to closest intersection\n",
    "- Distance to closest traffic signal\n",
    "\n",
    "Zoning Features:\n",
    "- Zoned for light rail\n",
    "- Zoned as pedestrian zone\n",
    "- Zoned as Historic\n",
    "- Zoning Class\n",
    "- Distance to nearest residental zoned area\n",
    "- Distance to nearest commerical zoned area\n",
    "- Distance to nearest industrial zoned area"
   ]
  },
  {
   "cell_type": "markdown",
   "id": "b58b2a3f-6c42-49ab-ad5b-00490563d771",
   "metadata": {},
   "source": [
    "## Research Question\n",
    "\n",
    "The research question I'm trying to answer is: \n",
    "\n",
    "What are the most important features to a walk score?\n",
    "\n",
    "I'm trying to predict the walk score of a given random coordinates in Seattle. \n",
    "In this project, supervised learning will be done to evaluate my model vs. the walk scored from Redfin's model."
   ]
  },
  {
   "cell_type": "markdown",
   "id": "cc206aaf-cd2a-4f30-b100-579d3ba58637",
   "metadata": {},
   "source": [
    "### Why is this algorithm a good way of answering your research question?"
   ]
  },
  {
   "cell_type": "markdown",
   "id": "f1cb2ad4-7820-4e55-ad0e-3b6be56699e8",
   "metadata": {},
   "source": [
    "## Model Development"
   ]
  },
  {
   "cell_type": "code",
   "execution_count": 2,
   "id": "62bd827a-8396-42c4-a6ca-264e7a716140",
   "metadata": {},
   "outputs": [],
   "source": [
    "# import packages\n",
    "import pandas as pd\n",
    "import json\n",
    "#import osmnx as ox\n",
    "import requests\n",
    "import random\n",
    "import time"
   ]
  },
  {
   "cell_type": "code",
   "execution_count": 4,
   "id": "1625762a-e532-418d-9725-3d9b012e8411",
   "metadata": {},
   "outputs": [],
   "source": [
    "data_gdf = pd.read_csv('Data/master_walk_score_comp.csv', index_col=0)"
   ]
  },
  {
   "cell_type": "code",
   "execution_count": 5,
   "id": "0019b044-4495-4a72-8399-aa2f97cd9653",
   "metadata": {},
   "outputs": [
    {
     "data": {
      "text/html": [
       "<div>\n",
       "<style scoped>\n",
       "    .dataframe tbody tr th:only-of-type {\n",
       "        vertical-align: middle;\n",
       "    }\n",
       "\n",
       "    .dataframe tbody tr th {\n",
       "        vertical-align: top;\n",
       "    }\n",
       "\n",
       "    .dataframe thead th {\n",
       "        text-align: right;\n",
       "    }\n",
       "</style>\n",
       "<table border=\"1\" class=\"dataframe\">\n",
       "  <thead>\n",
       "    <tr style=\"text-align: right;\">\n",
       "      <th></th>\n",
       "      <th>lat_left</th>\n",
       "      <th>lon_left</th>\n",
       "      <th>GEOID</th>\n",
       "      <th>restaurant_count</th>\n",
       "      <th>school_count</th>\n",
       "      <th>park_count</th>\n",
       "      <th>bus_station_count</th>\n",
       "      <th>supermarket_count</th>\n",
       "      <th>pub_count</th>\n",
       "      <th>parkwide_count</th>\n",
       "      <th>...</th>\n",
       "      <th>population</th>\n",
       "      <th>AREA_ACRES</th>\n",
       "      <th>tract</th>\n",
       "      <th>geometry_y</th>\n",
       "      <th>Land_Area_Km2</th>\n",
       "      <th>pop_den</th>\n",
       "      <th>industry_dist</th>\n",
       "      <th>commercial_dist</th>\n",
       "      <th>residential_dist</th>\n",
       "      <th>walk_score</th>\n",
       "    </tr>\n",
       "  </thead>\n",
       "  <tbody>\n",
       "    <tr>\n",
       "      <th>0</th>\n",
       "      <td>47.648701</td>\n",
       "      <td>-122.362286</td>\n",
       "      <td>53033005901</td>\n",
       "      <td>10</td>\n",
       "      <td>1</td>\n",
       "      <td>5</td>\n",
       "      <td>3</td>\n",
       "      <td>1</td>\n",
       "      <td>9</td>\n",
       "      <td>10</td>\n",
       "      <td>...</td>\n",
       "      <td>3570</td>\n",
       "      <td>235.297362</td>\n",
       "      <td>5901</td>\n",
       "      <td>POLYGON ((1178008.9642270755 852317.9935750181...</td>\n",
       "      <td>0.952215</td>\n",
       "      <td>3749.151383</td>\n",
       "      <td>0.000000</td>\n",
       "      <td>345.834513</td>\n",
       "      <td>103.157745</td>\n",
       "      <td>70</td>\n",
       "    </tr>\n",
       "    <tr>\n",
       "      <th>1</th>\n",
       "      <td>47.658157</td>\n",
       "      <td>-122.373453</td>\n",
       "      <td>53033005901</td>\n",
       "      <td>10</td>\n",
       "      <td>0</td>\n",
       "      <td>2</td>\n",
       "      <td>1</td>\n",
       "      <td>4</td>\n",
       "      <td>10</td>\n",
       "      <td>10</td>\n",
       "      <td>...</td>\n",
       "      <td>3570</td>\n",
       "      <td>235.297362</td>\n",
       "      <td>5901</td>\n",
       "      <td>POLYGON ((1178008.9642270755 852317.9935750181...</td>\n",
       "      <td>0.952215</td>\n",
       "      <td>3749.151383</td>\n",
       "      <td>0.000000</td>\n",
       "      <td>293.421351</td>\n",
       "      <td>360.651397</td>\n",
       "      <td>53</td>\n",
       "    </tr>\n",
       "    <tr>\n",
       "      <th>2</th>\n",
       "      <td>47.653362</td>\n",
       "      <td>-122.370374</td>\n",
       "      <td>53033005901</td>\n",
       "      <td>8</td>\n",
       "      <td>1</td>\n",
       "      <td>3</td>\n",
       "      <td>1</td>\n",
       "      <td>0</td>\n",
       "      <td>3</td>\n",
       "      <td>10</td>\n",
       "      <td>...</td>\n",
       "      <td>3570</td>\n",
       "      <td>235.297362</td>\n",
       "      <td>5901</td>\n",
       "      <td>POLYGON ((1178008.9642270755 852317.9935750181...</td>\n",
       "      <td>0.952215</td>\n",
       "      <td>3749.151383</td>\n",
       "      <td>97.780974</td>\n",
       "      <td>130.475997</td>\n",
       "      <td>0.000000</td>\n",
       "      <td>64</td>\n",
       "    </tr>\n",
       "    <tr>\n",
       "      <th>3</th>\n",
       "      <td>47.694938</td>\n",
       "      <td>-122.304282</td>\n",
       "      <td>53033002100</td>\n",
       "      <td>2</td>\n",
       "      <td>5</td>\n",
       "      <td>2</td>\n",
       "      <td>7</td>\n",
       "      <td>0</td>\n",
       "      <td>2</td>\n",
       "      <td>10</td>\n",
       "      <td>...</td>\n",
       "      <td>4423</td>\n",
       "      <td>337.392028</td>\n",
       "      <td>2100</td>\n",
       "      <td>POLYGON ((1195070.9481855484 864684.7671727433...</td>\n",
       "      <td>1.365378</td>\n",
       "      <td>3239.395258</td>\n",
       "      <td>1886.512436</td>\n",
       "      <td>87.723180</td>\n",
       "      <td>0.000000</td>\n",
       "      <td>57</td>\n",
       "    </tr>\n",
       "    <tr>\n",
       "      <th>4</th>\n",
       "      <td>47.690396</td>\n",
       "      <td>-122.305112</td>\n",
       "      <td>53033002100</td>\n",
       "      <td>5</td>\n",
       "      <td>5</td>\n",
       "      <td>4</td>\n",
       "      <td>7</td>\n",
       "      <td>0</td>\n",
       "      <td>3</td>\n",
       "      <td>10</td>\n",
       "      <td>...</td>\n",
       "      <td>4423</td>\n",
       "      <td>337.392028</td>\n",
       "      <td>2100</td>\n",
       "      <td>POLYGON ((1195070.9481855484 864684.7671727433...</td>\n",
       "      <td>1.365378</td>\n",
       "      <td>3239.395258</td>\n",
       "      <td>1922.132313</td>\n",
       "      <td>63.104194</td>\n",
       "      <td>0.000000</td>\n",
       "      <td>64</td>\n",
       "    </tr>\n",
       "  </tbody>\n",
       "</table>\n",
       "<p>5 rows × 46 columns</p>\n",
       "</div>"
      ],
      "text/plain": [
       "    lat_left    lon_left        GEOID  restaurant_count  school_count  \\\n",
       "0  47.648701 -122.362286  53033005901                10             1   \n",
       "1  47.658157 -122.373453  53033005901                10             0   \n",
       "2  47.653362 -122.370374  53033005901                 8             1   \n",
       "3  47.694938 -122.304282  53033002100                 2             5   \n",
       "4  47.690396 -122.305112  53033002100                 5             5   \n",
       "\n",
       "   park_count  bus_station_count  supermarket_count  pub_count  \\\n",
       "0           5                  3                  1          9   \n",
       "1           2                  1                  4         10   \n",
       "2           3                  1                  0          3   \n",
       "3           2                  7                  0          2   \n",
       "4           4                  7                  0          3   \n",
       "\n",
       "   parkwide_count  ...  population  AREA_ACRES  tract  \\\n",
       "0              10  ...        3570  235.297362   5901   \n",
       "1              10  ...        3570  235.297362   5901   \n",
       "2              10  ...        3570  235.297362   5901   \n",
       "3              10  ...        4423  337.392028   2100   \n",
       "4              10  ...        4423  337.392028   2100   \n",
       "\n",
       "                                          geometry_y  Land_Area_Km2  \\\n",
       "0  POLYGON ((1178008.9642270755 852317.9935750181...       0.952215   \n",
       "1  POLYGON ((1178008.9642270755 852317.9935750181...       0.952215   \n",
       "2  POLYGON ((1178008.9642270755 852317.9935750181...       0.952215   \n",
       "3  POLYGON ((1195070.9481855484 864684.7671727433...       1.365378   \n",
       "4  POLYGON ((1195070.9481855484 864684.7671727433...       1.365378   \n",
       "\n",
       "       pop_den  industry_dist commercial_dist  residential_dist  walk_score  \n",
       "0  3749.151383       0.000000      345.834513        103.157745          70  \n",
       "1  3749.151383       0.000000      293.421351        360.651397          53  \n",
       "2  3749.151383      97.780974      130.475997          0.000000          64  \n",
       "3  3239.395258    1886.512436       87.723180          0.000000          57  \n",
       "4  3239.395258    1922.132313       63.104194          0.000000          64  \n",
       "\n",
       "[5 rows x 46 columns]"
      ]
     },
     "execution_count": 5,
     "metadata": {},
     "output_type": "execute_result"
    }
   ],
   "source": [
    "data_gdf.head()"
   ]
  },
  {
   "cell_type": "markdown",
   "id": "cc92d989-f467-4d77-9c2f-db332422fbce",
   "metadata": {},
   "source": [
    "Tinker with parameters at least 3 times (changing learning rate, changing features, changing k like in KNN, etc). You may tinker with the same kind of parameter 3 times, it doesn't have to be 3 different parameters. (example: you can just tinker with k. k=1, k=3, or k=8) Or you might want to tinker with features and also your k value or whatever is appropriate for your algorithm. (3pts)"
   ]
  },
  {
   "cell_type": "markdown",
   "id": "1b823a82-0ccd-424a-b52e-fa300687cc48",
   "metadata": {},
   "source": [
    "Report the accuracy of your model. Either through RMSE or another metric. How did accuracy change with your parameter tinkering? (3pts)"
   ]
  },
  {
   "cell_type": "markdown",
   "id": "50b2603a-8888-41a9-842d-5d9da8593b8c",
   "metadata": {},
   "source": [
    "Create a visualization demonstrating your findings. Make sure to include a title and axis labels. Describe what's being shown in your visualization. (3pts)"
   ]
  },
  {
   "cell_type": "markdown",
   "id": "9a313dd4-767b-4c0f-ae8f-799b14b8f6a9",
   "metadata": {},
   "source": [
    "What challenges did you run into? Do you think it was because of the data, the model, the research question? How would you overcome these challenges? (4pts)"
   ]
  },
  {
   "cell_type": "markdown",
   "id": "9b4dccce-dd08-4c18-b98e-8e6ba7cb4912",
   "metadata": {},
   "source": [
    "We learned a little bit about how our models can affect real people in the world. Name 2 potential benefits of your model and 2 potential harms. You can even look at the Wikipedia page on Algorithmic Bias (Links to an external site.) for inspiration. Every model has consequences, what can you think of? If your data is really not amenable to this question, simply write about any other example we covered in class, such as the Boston housing dataset or hate speech detectors. (6pts)"
   ]
  },
  {
   "cell_type": "markdown",
   "id": "4f70c947-3769-4bf6-9331-cca0ca406a8f",
   "metadata": {},
   "source": [
    "Name one research question you might ask next for future work (don't worry, you don't have to do it!) Why is it important? (2pts)"
   ]
  }
 ],
 "metadata": {
  "kernelspec": {
   "display_name": "Python 3 (ipykernel)",
   "language": "python",
   "name": "python3"
  },
  "language_info": {
   "codemirror_mode": {
    "name": "ipython",
    "version": 3
   },
   "file_extension": ".py",
   "mimetype": "text/x-python",
   "name": "python",
   "nbconvert_exporter": "python",
   "pygments_lexer": "ipython3",
   "version": "3.9.7"
  }
 },
 "nbformat": 4,
 "nbformat_minor": 5
}
