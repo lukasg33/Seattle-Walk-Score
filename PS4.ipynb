{
 "cells": [
  {
   "cell_type": "markdown",
   "id": "28e10f88-8e92-4e52-935b-493bb85a4650",
   "metadata": {},
   "source": [
    "### Creating A Model to Predict Walk Scores in Seattle"
   ]
  },
  {
   "cell_type": "markdown",
   "id": "fda8ce76-70ff-4c6e-b567-68883f639c5d",
   "metadata": {},
   "source": [
    "The dataset I'm using is based on 1000 random coordinates within the Seattle city limits. Based on these 1000 random coordinates, I merged on demographic data from the census tract that encompasses the coordinates. To round out the feature set, I definied a ammenity and distance combinations that I thought would be imporant for walkability. I queried these combinations using the Location IQ API. Then I tried to evaluate the surrounding street network within .25 km these points. I used the Open Street Maps API for this. Lastly, I merged information about the zoning features of the randomly generated points from data downloaded from the City of Seattle. The data on census demographics is from 2020, dat on ammenities, street networks, and zonign are from 2022.\n",
    "\n",
    "The code that helped assemble this dataset was largely borrowed from Perry Johnson's \"Walk Score\" project. This project can be found [here](https://github.com/perryrjohnson/Walk-Score)."
   ]
  },
  {
   "cell_type": "markdown",
   "id": "7c02a93f-b329-404b-a84a-1a216279edeb",
   "metadata": {},
   "source": [
    "Census Tract Features:\n",
    "- Population\n",
    "- Population Density\n",
    "\n",
    "Ammenity and Distances:\n",
    "- Number of restaurants within 1 km\n",
    "- Number of schools within 1 km\n",
    "- Number of parks within 1 km\n",
    "- Number of Bus Stations within 10 km\n",
    "- Number of Super Markets within 1 km\n",
    "- Number of pubs within 1 km\n",
    "- Number of parks within 2.5 km\n",
    "- Number of restaurants within 1.5 km\n",
    "\n",
    "Surrounding Street Network:\n",
    "- Number of intersections\n",
    "- Mean number of streets that emanate from each node\n",
    "- Circuity is the sum of edge lengths divided by the sum of straight-line distances between edge endpoints. Calculates straight-line distance as euclidean distance if projected or great-circle distance if unprojected.\n",
    "- Street Length Average: Total street segment length / count of street segments\n",
    "- Distance to closest highway \n",
    "- Distance to closest primary road \n",
    "- Distance to closest secondary road \n",
    "- Distance to closest intersection\n",
    "- Distance to closest traffic signal\n",
    "\n",
    "Zoning Features:\n",
    "- Zoned for light rail\n",
    "- Zoned as pedestrian zone\n",
    "- Zoned as Historic\n",
    "- Zoning Class\n",
    "- Distance to nearest residental zoned area\n",
    "- Distance to nearest commerical zoned area\n",
    "- Distance to nearest industrial zoned area"
   ]
  },
  {
   "cell_type": "markdown",
   "id": "b58b2a3f-6c42-49ab-ad5b-00490563d771",
   "metadata": {},
   "source": [
    "## Research Question\n",
    "\n",
    "The research question I'm trying to answer is: \n",
    "\n",
    "What are the most important features to Redfin's walk score?\n",
    "\n",
    "I'm trying to predict the walk score of a given random coordinates in Seattle. \n",
    "In this project, supervised learning will be done to evaluate my model vs. the walk scored from Redfin's model.\n",
    "\n",
    "This algortithm will help answer the research question as we can evaluate the final weights of the input features after the model is tuned to see which features carry the most weight in determining walk score."
   ]
  },
  {
   "cell_type": "markdown",
   "id": "f1cb2ad4-7820-4e55-ad0e-3b6be56699e8",
   "metadata": {
    "tags": []
   },
   "source": [
    "# Model Development"
   ]
  },
  {
   "cell_type": "code",
   "execution_count": 1,
   "id": "62bd827a-8396-42c4-a6ca-264e7a716140",
   "metadata": {},
   "outputs": [],
   "source": [
    "# import packages\n",
    "import pandas as pd\n",
    "import json\n",
    "import numpy as np\n",
    "import requests\n",
    "import random\n",
    "import time\n",
    "from sklearn.model_selection import train_test_split, RandomizedSearchCV, GridSearchCV, cross_val_score\n",
    "from sklearn.linear_model import Perceptron\n",
    "from sklearn.preprocessing import StandardScaler\n",
    "from sklearn.neural_network import MLPRegressor\n",
    "from sklearn.model_selection import GridSearchCV\n",
    "from sklearn import tree, ensemble"
   ]
  },
  {
   "cell_type": "markdown",
   "id": "7273f05b-6969-4cd9-bb48-7647960604d0",
   "metadata": {
    "tags": []
   },
   "source": [
    "## Reading in Data"
   ]
  },
  {
   "cell_type": "code",
   "execution_count": 2,
   "id": "1625762a-e532-418d-9725-3d9b012e8411",
   "metadata": {},
   "outputs": [],
   "source": [
    "data_df = pd.read_csv('Data/master_walk_score_comp.csv', index_col=0)"
   ]
  },
  {
   "cell_type": "code",
   "execution_count": 3,
   "id": "0019b044-4495-4a72-8399-aa2f97cd9653",
   "metadata": {},
   "outputs": [
    {
     "data": {
      "text/html": [
       "<div>\n",
       "<style scoped>\n",
       "    .dataframe tbody tr th:only-of-type {\n",
       "        vertical-align: middle;\n",
       "    }\n",
       "\n",
       "    .dataframe tbody tr th {\n",
       "        vertical-align: top;\n",
       "    }\n",
       "\n",
       "    .dataframe thead th {\n",
       "        text-align: right;\n",
       "    }\n",
       "</style>\n",
       "<table border=\"1\" class=\"dataframe\">\n",
       "  <thead>\n",
       "    <tr style=\"text-align: right;\">\n",
       "      <th></th>\n",
       "      <th>lat_left</th>\n",
       "      <th>lon_left</th>\n",
       "      <th>GEOID</th>\n",
       "      <th>restaurant_count</th>\n",
       "      <th>school_count</th>\n",
       "      <th>park_count</th>\n",
       "      <th>bus_station_count</th>\n",
       "      <th>supermarket_count</th>\n",
       "      <th>pub_count</th>\n",
       "      <th>parkwide_count</th>\n",
       "      <th>...</th>\n",
       "      <th>population</th>\n",
       "      <th>AREA_ACRES</th>\n",
       "      <th>tract</th>\n",
       "      <th>geometry_y</th>\n",
       "      <th>Land_Area_Km2</th>\n",
       "      <th>pop_den</th>\n",
       "      <th>industry_dist</th>\n",
       "      <th>commercial_dist</th>\n",
       "      <th>residential_dist</th>\n",
       "      <th>walk_score</th>\n",
       "    </tr>\n",
       "  </thead>\n",
       "  <tbody>\n",
       "    <tr>\n",
       "      <th>0</th>\n",
       "      <td>47.648701</td>\n",
       "      <td>-122.362286</td>\n",
       "      <td>53033005901</td>\n",
       "      <td>10</td>\n",
       "      <td>1</td>\n",
       "      <td>5</td>\n",
       "      <td>3</td>\n",
       "      <td>1</td>\n",
       "      <td>9</td>\n",
       "      <td>10</td>\n",
       "      <td>...</td>\n",
       "      <td>3570</td>\n",
       "      <td>235.297362</td>\n",
       "      <td>5901</td>\n",
       "      <td>POLYGON ((1178008.9642270755 852317.9935750181...</td>\n",
       "      <td>0.952215</td>\n",
       "      <td>3749.151383</td>\n",
       "      <td>0.000000</td>\n",
       "      <td>345.834513</td>\n",
       "      <td>103.157745</td>\n",
       "      <td>70</td>\n",
       "    </tr>\n",
       "    <tr>\n",
       "      <th>1</th>\n",
       "      <td>47.658157</td>\n",
       "      <td>-122.373453</td>\n",
       "      <td>53033005901</td>\n",
       "      <td>10</td>\n",
       "      <td>0</td>\n",
       "      <td>2</td>\n",
       "      <td>1</td>\n",
       "      <td>4</td>\n",
       "      <td>10</td>\n",
       "      <td>10</td>\n",
       "      <td>...</td>\n",
       "      <td>3570</td>\n",
       "      <td>235.297362</td>\n",
       "      <td>5901</td>\n",
       "      <td>POLYGON ((1178008.9642270755 852317.9935750181...</td>\n",
       "      <td>0.952215</td>\n",
       "      <td>3749.151383</td>\n",
       "      <td>0.000000</td>\n",
       "      <td>293.421351</td>\n",
       "      <td>360.651397</td>\n",
       "      <td>53</td>\n",
       "    </tr>\n",
       "    <tr>\n",
       "      <th>2</th>\n",
       "      <td>47.653362</td>\n",
       "      <td>-122.370374</td>\n",
       "      <td>53033005901</td>\n",
       "      <td>8</td>\n",
       "      <td>1</td>\n",
       "      <td>3</td>\n",
       "      <td>1</td>\n",
       "      <td>0</td>\n",
       "      <td>3</td>\n",
       "      <td>10</td>\n",
       "      <td>...</td>\n",
       "      <td>3570</td>\n",
       "      <td>235.297362</td>\n",
       "      <td>5901</td>\n",
       "      <td>POLYGON ((1178008.9642270755 852317.9935750181...</td>\n",
       "      <td>0.952215</td>\n",
       "      <td>3749.151383</td>\n",
       "      <td>97.780974</td>\n",
       "      <td>130.475997</td>\n",
       "      <td>0.000000</td>\n",
       "      <td>64</td>\n",
       "    </tr>\n",
       "    <tr>\n",
       "      <th>3</th>\n",
       "      <td>47.694938</td>\n",
       "      <td>-122.304282</td>\n",
       "      <td>53033002100</td>\n",
       "      <td>2</td>\n",
       "      <td>5</td>\n",
       "      <td>2</td>\n",
       "      <td>7</td>\n",
       "      <td>0</td>\n",
       "      <td>2</td>\n",
       "      <td>10</td>\n",
       "      <td>...</td>\n",
       "      <td>4423</td>\n",
       "      <td>337.392028</td>\n",
       "      <td>2100</td>\n",
       "      <td>POLYGON ((1195070.9481855484 864684.7671727433...</td>\n",
       "      <td>1.365378</td>\n",
       "      <td>3239.395258</td>\n",
       "      <td>1886.512436</td>\n",
       "      <td>87.723180</td>\n",
       "      <td>0.000000</td>\n",
       "      <td>57</td>\n",
       "    </tr>\n",
       "    <tr>\n",
       "      <th>4</th>\n",
       "      <td>47.690396</td>\n",
       "      <td>-122.305112</td>\n",
       "      <td>53033002100</td>\n",
       "      <td>5</td>\n",
       "      <td>5</td>\n",
       "      <td>4</td>\n",
       "      <td>7</td>\n",
       "      <td>0</td>\n",
       "      <td>3</td>\n",
       "      <td>10</td>\n",
       "      <td>...</td>\n",
       "      <td>4423</td>\n",
       "      <td>337.392028</td>\n",
       "      <td>2100</td>\n",
       "      <td>POLYGON ((1195070.9481855484 864684.7671727433...</td>\n",
       "      <td>1.365378</td>\n",
       "      <td>3239.395258</td>\n",
       "      <td>1922.132313</td>\n",
       "      <td>63.104194</td>\n",
       "      <td>0.000000</td>\n",
       "      <td>64</td>\n",
       "    </tr>\n",
       "  </tbody>\n",
       "</table>\n",
       "<p>5 rows × 46 columns</p>\n",
       "</div>"
      ],
      "text/plain": [
       "    lat_left    lon_left        GEOID  restaurant_count  school_count  \\\n",
       "0  47.648701 -122.362286  53033005901                10             1   \n",
       "1  47.658157 -122.373453  53033005901                10             0   \n",
       "2  47.653362 -122.370374  53033005901                 8             1   \n",
       "3  47.694938 -122.304282  53033002100                 2             5   \n",
       "4  47.690396 -122.305112  53033002100                 5             5   \n",
       "\n",
       "   park_count  bus_station_count  supermarket_count  pub_count  \\\n",
       "0           5                  3                  1          9   \n",
       "1           2                  1                  4         10   \n",
       "2           3                  1                  0          3   \n",
       "3           2                  7                  0          2   \n",
       "4           4                  7                  0          3   \n",
       "\n",
       "   parkwide_count  ...  population  AREA_ACRES  tract  \\\n",
       "0              10  ...        3570  235.297362   5901   \n",
       "1              10  ...        3570  235.297362   5901   \n",
       "2              10  ...        3570  235.297362   5901   \n",
       "3              10  ...        4423  337.392028   2100   \n",
       "4              10  ...        4423  337.392028   2100   \n",
       "\n",
       "                                          geometry_y  Land_Area_Km2  \\\n",
       "0  POLYGON ((1178008.9642270755 852317.9935750181...       0.952215   \n",
       "1  POLYGON ((1178008.9642270755 852317.9935750181...       0.952215   \n",
       "2  POLYGON ((1178008.9642270755 852317.9935750181...       0.952215   \n",
       "3  POLYGON ((1195070.9481855484 864684.7671727433...       1.365378   \n",
       "4  POLYGON ((1195070.9481855484 864684.7671727433...       1.365378   \n",
       "\n",
       "       pop_den  industry_dist commercial_dist  residential_dist  walk_score  \n",
       "0  3749.151383       0.000000      345.834513        103.157745          70  \n",
       "1  3749.151383       0.000000      293.421351        360.651397          53  \n",
       "2  3749.151383      97.780974      130.475997          0.000000          64  \n",
       "3  3239.395258    1886.512436       87.723180          0.000000          57  \n",
       "4  3239.395258    1922.132313       63.104194          0.000000          64  \n",
       "\n",
       "[5 rows x 46 columns]"
      ]
     },
     "execution_count": 3,
     "metadata": {},
     "output_type": "execute_result"
    }
   ],
   "source": [
    "data_df.head()"
   ]
  },
  {
   "cell_type": "code",
   "execution_count": 4,
   "id": "69f743e2-1135-40cf-87df-780f34e50a33",
   "metadata": {},
   "outputs": [
    {
     "name": "stdout",
     "output_type": "stream",
     "text": [
      "<class 'pandas.core.frame.DataFrame'>\n",
      "Int64Index: 629 entries, 0 to 628\n",
      "Data columns (total 46 columns):\n",
      " #   Column                Non-Null Count  Dtype  \n",
      "---  ------                --------------  -----  \n",
      " 0   lat_left              629 non-null    float64\n",
      " 1   lon_left              629 non-null    float64\n",
      " 2   GEOID                 629 non-null    int64  \n",
      " 3   restaurant_count      629 non-null    int64  \n",
      " 4   school_count          629 non-null    int64  \n",
      " 5   park_count            629 non-null    int64  \n",
      " 6   bus_station_count     629 non-null    int64  \n",
      " 7   supermarket_count     629 non-null    int64  \n",
      " 8   pub_count             629 non-null    int64  \n",
      " 9   parkwide_count        629 non-null    int64  \n",
      " 10  restaurantwide_count  629 non-null    int64  \n",
      " 11  intersection_count    629 non-null    int64  \n",
      " 12  streets_per_node_avg  629 non-null    float64\n",
      " 13  circuity_avg          629 non-null    float64\n",
      " 14  street_length_avg     629 non-null    float64\n",
      " 15  geometry              629 non-null    object \n",
      " 16  place_id              629 non-null    int64  \n",
      " 17  osm_type              629 non-null    object \n",
      " 18  osm_id                629 non-null    int64  \n",
      " 19  lat_right             629 non-null    float64\n",
      " 20  lon_right             629 non-null    float64\n",
      " 21  display_name          629 non-null    object \n",
      " 22  class                 629 non-null    object \n",
      " 23  type                  629 non-null    object \n",
      " 24  importance            629 non-null    float64\n",
      " 25  road_type             629 non-null    object \n",
      " 26  closest_highway       629 non-null    float64\n",
      " 27  closest_primary       629 non-null    float64\n",
      " 28  closest_secondary     629 non-null    float64\n",
      " 29  corner_dist           629 non-null    float64\n",
      " 30  signal_dist           629 non-null    float64\n",
      " 31  HISTORIC              5 non-null      object \n",
      " 32  PEDESTRIAN            13 non-null     object \n",
      " 33  LIGHTRAIL             10 non-null     object \n",
      " 34  CLASS_DESC            629 non-null    object \n",
      " 35  zone                  629 non-null    object \n",
      " 36  population            629 non-null    int64  \n",
      " 37  AREA_ACRES            629 non-null    float64\n",
      " 38  tract                 629 non-null    int64  \n",
      " 39  geometry_y            629 non-null    object \n",
      " 40  Land_Area_Km2         629 non-null    float64\n",
      " 41  pop_den               629 non-null    float64\n",
      " 42  industry_dist         629 non-null    float64\n",
      " 43  commercial_dist       629 non-null    float64\n",
      " 44  residential_dist      629 non-null    float64\n",
      " 45  walk_score            629 non-null    int64  \n",
      "dtypes: float64(19), int64(15), object(12)\n",
      "memory usage: 231.0+ KB\n"
     ]
    }
   ],
   "source": [
    "data_df.info()"
   ]
  },
  {
   "cell_type": "code",
   "execution_count": 5,
   "id": "0a41c174-ccf4-4110-8ab6-8f22212fd7f3",
   "metadata": {},
   "outputs": [],
   "source": [
    "import matplotlib.pyplot as plt\n",
    "from sklearn.linear_model import Perceptron\n",
    "from sklearn.neural_network import MLPClassifier\n",
    "from sklearn.model_selection import train_test_split, RandomizedSearchCV, GridSearchCV, cross_val_score"
   ]
  },
  {
   "cell_type": "code",
   "execution_count": 6,
   "id": "be8ab6db-bf75-42d3-ba6c-b057f0d2dd49",
   "metadata": {},
   "outputs": [
    {
     "name": "stdout",
     "output_type": "stream",
     "text": [
      "<class 'pandas.core.frame.DataFrame'>\n",
      "Int64Index: 629 entries, 0 to 628\n",
      "Data columns (total 26 columns):\n",
      " #   Column                Non-Null Count  Dtype  \n",
      "---  ------                --------------  -----  \n",
      " 0   restaurant_count      629 non-null    int64  \n",
      " 1   school_count          629 non-null    int64  \n",
      " 2   park_count            629 non-null    int64  \n",
      " 3   bus_station_count     629 non-null    int64  \n",
      " 4   supermarket_count     629 non-null    int64  \n",
      " 5   pub_count             629 non-null    int64  \n",
      " 6   parkwide_count        629 non-null    int64  \n",
      " 7   restaurantwide_count  629 non-null    int64  \n",
      " 8   intersection_count    629 non-null    int64  \n",
      " 9   streets_per_node_avg  629 non-null    float64\n",
      " 10  circuity_avg          629 non-null    float64\n",
      " 11  street_length_avg     629 non-null    float64\n",
      " 12  closest_highway       629 non-null    float64\n",
      " 13  closest_primary       629 non-null    float64\n",
      " 14  corner_dist           629 non-null    float64\n",
      " 15  signal_dist           629 non-null    float64\n",
      " 16  HISTORIC              5 non-null      object \n",
      " 17  PEDESTRIAN            13 non-null     object \n",
      " 18  LIGHTRAIL             10 non-null     object \n",
      " 19  CLASS_DESC            629 non-null    object \n",
      " 20  population            629 non-null    int64  \n",
      " 21  Land_Area_Km2         629 non-null    float64\n",
      " 22  pop_den               629 non-null    float64\n",
      " 23  industry_dist         629 non-null    float64\n",
      " 24  commercial_dist       629 non-null    float64\n",
      " 25  residential_dist      629 non-null    float64\n",
      "dtypes: float64(12), int64(10), object(4)\n",
      "memory usage: 132.7+ KB\n"
     ]
    }
   ],
   "source": [
    "features = ['restaurant_count',\n",
    "            'school_count',\n",
    "            'park_count',\n",
    "            'bus_station_count',\n",
    "            'supermarket_count',\n",
    "            'pub_count',\n",
    "            'parkwide_count',\n",
    "            'restaurantwide_count',\n",
    "            'intersection_count',\n",
    "            'streets_per_node_avg',\n",
    "            'circuity_avg',\n",
    "            'street_length_avg',\n",
    "            'closest_highway',\n",
    "            'closest_primary',\n",
    "            'corner_dist',\n",
    "            'signal_dist',\n",
    "            'HISTORIC',\n",
    "            'PEDESTRIAN',\n",
    "            'LIGHTRAIL',\n",
    "            'CLASS_DESC',\n",
    "            'population',\n",
    "            'Land_Area_Km2',\n",
    "            'pop_den',\n",
    "            'industry_dist',\n",
    "            'commercial_dist',\n",
    "            'residential_dist']\n",
    "\n",
    "data_features = data_df[features]\n",
    "data_features.info()          "
   ]
  },
  {
   "cell_type": "code",
   "execution_count": 7,
   "id": "63bf7c75-2a97-4dba-a64a-d80e596232f3",
   "metadata": {},
   "outputs": [],
   "source": [
    "target = data_df['walk_score']"
   ]
  },
  {
   "cell_type": "code",
   "execution_count": 8,
   "id": "4b234abb-0707-4516-aab9-455a94f8b6e8",
   "metadata": {},
   "outputs": [
    {
     "name": "stdout",
     "output_type": "stream",
     "text": [
      "<class 'pandas.core.frame.DataFrame'>\n",
      "Int64Index: 629 entries, 0 to 628\n",
      "Data columns (total 38 columns):\n",
      " #   Column                               Non-Null Count  Dtype  \n",
      "---  ------                               --------------  -----  \n",
      " 0   restaurant_count                     629 non-null    int64  \n",
      " 1   school_count                         629 non-null    int64  \n",
      " 2   park_count                           629 non-null    int64  \n",
      " 3   bus_station_count                    629 non-null    int64  \n",
      " 4   supermarket_count                    629 non-null    int64  \n",
      " 5   pub_count                            629 non-null    int64  \n",
      " 6   parkwide_count                       629 non-null    int64  \n",
      " 7   restaurantwide_count                 629 non-null    int64  \n",
      " 8   intersection_count                   629 non-null    int64  \n",
      " 9   streets_per_node_avg                 629 non-null    float64\n",
      " 10  circuity_avg                         629 non-null    float64\n",
      " 11  street_length_avg                    629 non-null    float64\n",
      " 12  closest_highway                      629 non-null    float64\n",
      " 13  closest_primary                      629 non-null    float64\n",
      " 14  corner_dist                          629 non-null    float64\n",
      " 15  signal_dist                          629 non-null    float64\n",
      " 16  population                           629 non-null    int64  \n",
      " 17  Land_Area_Km2                        629 non-null    float64\n",
      " 18  pop_den                              629 non-null    float64\n",
      " 19  industry_dist                        629 non-null    float64\n",
      " 20  commercial_dist                      629 non-null    float64\n",
      " 21  residential_dist                     629 non-null    float64\n",
      " 22  CLASS_DESC_Commercial/Mixed Use      629 non-null    uint8  \n",
      " 23  CLASS_DESC_Downtown                  629 non-null    uint8  \n",
      " 24  CLASS_DESC_Major Institutions        629 non-null    uint8  \n",
      " 25  CLASS_DESC_Manufacturing/Industrial  629 non-null    uint8  \n",
      " 26  CLASS_DESC_Master Planned Community  629 non-null    uint8  \n",
      " 27  CLASS_DESC_Multi-Family              629 non-null    uint8  \n",
      " 28  CLASS_DESC_Single Family             629 non-null    uint8  \n",
      " 29  HISTORIC_BD                          629 non-null    uint8  \n",
      " 30  HISTORIC_PS                          629 non-null    uint8  \n",
      " 31  HISTORIC_SL                          629 non-null    uint8  \n",
      " 32  LIGHTRAIL_45                         629 non-null    uint8  \n",
      " 33  LIGHTRAIL_CH                         629 non-null    uint8  \n",
      " 34  LIGHTRAIL_ED                         629 non-null    uint8  \n",
      " 35  LIGHTRAIL_HN                         629 non-null    uint8  \n",
      " 36  LIGHTRAIL_RO                         629 non-null    uint8  \n",
      " 37  PEDESTRIAN_P                         629 non-null    uint8  \n",
      "dtypes: float64(12), int64(10), uint8(16)\n",
      "memory usage: 122.9 KB\n"
     ]
    }
   ],
   "source": [
    "#need dummy variables\n",
    "data_dummies = pd.get_dummies(data_features, columns=['CLASS_DESC','HISTORIC','LIGHTRAIL','PEDESTRIAN'])\n",
    "data_dummies.info()"
   ]
  },
  {
   "cell_type": "code",
   "execution_count": 9,
   "id": "f0ea1820-c75f-4a85-88db-7fce311c06ce",
   "metadata": {},
   "outputs": [],
   "source": [
    "#Rename Variables for ML\n",
    "X = data_dummies.copy()\n",
    "y = data_df['walk_score']"
   ]
  },
  {
   "cell_type": "markdown",
   "id": "50bcd7c9-bea0-4caa-b346-d8b0e889bced",
   "metadata": {
    "tags": []
   },
   "source": [
    "## Train Test Split"
   ]
  },
  {
   "cell_type": "code",
   "execution_count": 10,
   "id": "41335b05-560e-446f-8600-7fb34902c138",
   "metadata": {},
   "outputs": [
    {
     "name": "stdout",
     "output_type": "stream",
     "text": [
      "Train size: 421\n",
      "Test size: 208\n"
     ]
    }
   ],
   "source": [
    "X_train, X_test, y_train, y_test = train_test_split(X, y, test_size=0.33, random_state=0)\n",
    "print('Train size:', len(y_train))\n",
    "print('Test size:', len(y_test))"
   ]
  },
  {
   "cell_type": "markdown",
   "id": "e8d05433-dbf3-4e56-957b-c0d4eb64e9a4",
   "metadata": {},
   "source": [
    "## Scaling Features"
   ]
  },
  {
   "cell_type": "code",
   "execution_count": 11,
   "id": "8f78c72e-e928-419c-9392-fc2ded339862",
   "metadata": {},
   "outputs": [],
   "source": [
    "scaler = StandardScaler()\n",
    "scaler.fit(X_train)\n",
    "X_train = scaler.transform(X_train)\n",
    "X_test = scaler.transform(X_test)"
   ]
  },
  {
   "cell_type": "markdown",
   "id": "73d2bd0b-feba-4941-b5f5-b95e94686e81",
   "metadata": {},
   "source": [
    "## Build Model"
   ]
  },
  {
   "cell_type": "code",
   "execution_count": 12,
   "id": "6775b6f0-892c-48e2-a0f1-65e0f2cebe04",
   "metadata": {},
   "outputs": [],
   "source": [
    "#Default Params\n",
    "mlp = MLPRegressor(hidden_layer_sizes = (100,), \n",
    "                  solver = 'adam',\n",
    "                  learning_rate_init = .001,\n",
    "                  max_iter = 200,\n",
    "                  random_state = 1, \n",
    "                   n_iter_no_change=10)"
   ]
  },
  {
   "cell_type": "code",
   "execution_count": 13,
   "id": "fde261ed-b5ab-45f1-b975-173ed6765a45",
   "metadata": {},
   "outputs": [
    {
     "name": "stderr",
     "output_type": "stream",
     "text": [
      "/srv/conda/envs/notebook/lib/python3.9/site-packages/sklearn/neural_network/_multilayer_perceptron.py:692: ConvergenceWarning: Stochastic Optimizer: Maximum iterations (200) reached and the optimization hasn't converged yet.\n",
      "  warnings.warn(\n"
     ]
    },
    {
     "data": {
      "text/plain": [
       "MLPRegressor(random_state=1)"
      ]
     },
     "execution_count": 13,
     "metadata": {},
     "output_type": "execute_result"
    }
   ],
   "source": [
    "mlp.fit(X_train,y_train)"
   ]
  },
  {
   "cell_type": "code",
   "execution_count": 14,
   "id": "86cb0f2a-7937-42da-b725-cabd7b3dcb18",
   "metadata": {},
   "outputs": [],
   "source": [
    "#Default Params\n",
    "mlp = MLPRegressor(hidden_layer_sizes = (100,), \n",
    "                  solver = 'adam',\n",
    "                  learning_rate_init = .001,\n",
    "                  max_iter = 2000,\n",
    "                  random_state = 1, \n",
    "                   n_iter_no_change=10)"
   ]
  },
  {
   "cell_type": "code",
   "execution_count": 15,
   "id": "e7521902-f978-4b47-8cac-492e5ff1ee6c",
   "metadata": {},
   "outputs": [
    {
     "name": "stderr",
     "output_type": "stream",
     "text": [
      "/srv/conda/envs/notebook/lib/python3.9/site-packages/sklearn/neural_network/_multilayer_perceptron.py:692: ConvergenceWarning: Stochastic Optimizer: Maximum iterations (2000) reached and the optimization hasn't converged yet.\n",
      "  warnings.warn(\n"
     ]
    },
    {
     "data": {
      "text/plain": [
       "MLPRegressor(max_iter=2000, random_state=1)"
      ]
     },
     "execution_count": 15,
     "metadata": {},
     "output_type": "execute_result"
    }
   ],
   "source": [
    "mlp.fit(X_train,y_train)"
   ]
  },
  {
   "cell_type": "code",
   "execution_count": 16,
   "id": "fe9ac2db-2fa8-4f1d-ac60-948e8f5367b0",
   "metadata": {},
   "outputs": [
    {
     "name": "stderr",
     "output_type": "stream",
     "text": [
      "/srv/conda/envs/notebook/lib/python3.9/site-packages/sklearn/base.py:438: UserWarning: X has feature names, but MLPRegressor was fitted without feature names\n",
      "  warnings.warn(\n"
     ]
    },
    {
     "data": {
      "text/plain": [
       "-1053171.6183212262"
      ]
     },
     "execution_count": 16,
     "metadata": {},
     "output_type": "execute_result"
    }
   ],
   "source": [
    "#R-sqaured\n",
    "mlp.score(X,y)"
   ]
  },
  {
   "cell_type": "markdown",
   "id": "04139f5c-b655-4f47-a90f-8592f4ddd688",
   "metadata": {},
   "source": [
    "## Tuning Hidden Layers for Stocastic Gradient Decent Solver"
   ]
  },
  {
   "cell_type": "code",
   "execution_count": 17,
   "id": "07257fc9-e1ca-4dc5-9477-e464189eab66",
   "metadata": {},
   "outputs": [
    {
     "name": "stderr",
     "output_type": "stream",
     "text": [
      "/srv/conda/envs/notebook/lib/python3.9/site-packages/sklearn/neural_network/_multilayer_perceptron.py:692: ConvergenceWarning: Stochastic Optimizer: Maximum iterations (1000) reached and the optimization hasn't converged yet.\n",
      "  warnings.warn(\n",
      "/srv/conda/envs/notebook/lib/python3.9/site-packages/sklearn/neural_network/_multilayer_perceptron.py:692: ConvergenceWarning: Stochastic Optimizer: Maximum iterations (1000) reached and the optimization hasn't converged yet.\n",
      "  warnings.warn(\n",
      "/srv/conda/envs/notebook/lib/python3.9/site-packages/sklearn/neural_network/_multilayer_perceptron.py:692: ConvergenceWarning: Stochastic Optimizer: Maximum iterations (1000) reached and the optimization hasn't converged yet.\n",
      "  warnings.warn(\n",
      "/srv/conda/envs/notebook/lib/python3.9/site-packages/sklearn/neural_network/_multilayer_perceptron.py:692: ConvergenceWarning: Stochastic Optimizer: Maximum iterations (1000) reached and the optimization hasn't converged yet.\n",
      "  warnings.warn(\n",
      "/srv/conda/envs/notebook/lib/python3.9/site-packages/sklearn/neural_network/_multilayer_perceptron.py:692: ConvergenceWarning: Stochastic Optimizer: Maximum iterations (1000) reached and the optimization hasn't converged yet.\n",
      "  warnings.warn(\n",
      "/srv/conda/envs/notebook/lib/python3.9/site-packages/sklearn/neural_network/_multilayer_perceptron.py:692: ConvergenceWarning: Stochastic Optimizer: Maximum iterations (1000) reached and the optimization hasn't converged yet.\n",
      "  warnings.warn(\n",
      "/srv/conda/envs/notebook/lib/python3.9/site-packages/sklearn/neural_network/_multilayer_perceptron.py:692: ConvergenceWarning: Stochastic Optimizer: Maximum iterations (1000) reached and the optimization hasn't converged yet.\n",
      "  warnings.warn(\n",
      "/srv/conda/envs/notebook/lib/python3.9/site-packages/sklearn/neural_network/_multilayer_perceptron.py:692: ConvergenceWarning: Stochastic Optimizer: Maximum iterations (1000) reached and the optimization hasn't converged yet.\n",
      "  warnings.warn(\n",
      "/srv/conda/envs/notebook/lib/python3.9/site-packages/sklearn/neural_network/_multilayer_perceptron.py:692: ConvergenceWarning: Stochastic Optimizer: Maximum iterations (1000) reached and the optimization hasn't converged yet.\n",
      "  warnings.warn(\n",
      "/srv/conda/envs/notebook/lib/python3.9/site-packages/sklearn/neural_network/_multilayer_perceptron.py:692: ConvergenceWarning: Stochastic Optimizer: Maximum iterations (1000) reached and the optimization hasn't converged yet.\n",
      "  warnings.warn(\n",
      "/srv/conda/envs/notebook/lib/python3.9/site-packages/sklearn/neural_network/_multilayer_perceptron.py:692: ConvergenceWarning: Stochastic Optimizer: Maximum iterations (1000) reached and the optimization hasn't converged yet.\n",
      "  warnings.warn(\n"
     ]
    }
   ],
   "source": [
    "results_list = []\n",
    "for hidden_layers in range(1,5,1):\n",
    "    mlp = MLPRegressor(hidden_layer_sizes = (100,)*hidden_layers, \n",
    "                  solver = 'adam',\n",
    "                  learning_rate_init = .001,\n",
    "                  max_iter = 1000,\n",
    "                  random_state = 1,\n",
    "                  n_iter_no_change=5)\n",
    "    accuracy_results = cross_val_score(mlp, \n",
    "                                       X_train, \n",
    "                                       y_train,\n",
    "                                       cv=5)\n",
    "    results_list.append([hidden_layers, 100 * np.mean(accuracy_results)])\n",
    "    \n",
    "df_results_list_mlp = pd.DataFrame(results_list, columns=[\"hidden_layers\", \"Score\"])"
   ]
  },
  {
   "cell_type": "code",
   "execution_count": 18,
   "id": "70d4d96f-aad8-411e-9fe5-6af6dc3e16fd",
   "metadata": {},
   "outputs": [
    {
     "data": {
      "text/plain": [
       "Text(0, 0.5, 'Score')"
      ]
     },
     "execution_count": 18,
     "metadata": {},
     "output_type": "execute_result"
    },
    {
     "data": {
      "image/png": "[encoded data removed]",
      "text/plain": [
       "<Figure size 432x288 with 1 Axes>"
      ]
     },
     "metadata": {
      "needs_background": "light"
     },
     "output_type": "display_data"
    }
   ],
   "source": [
    "fig, ax = plt.subplots()\n",
    "df_results_list_mlp.set_index(\"hidden_layers\")[\"Score\"].plot(ax = ax)\n",
    "ax.set_title(\"Accuracy of Neural Net Model with Different Hidden Layers\")\n",
    "ax.set_xticks(list(range(1,5,1)))\n",
    "ax.set_ylabel(\"Score\")"
   ]
  },
  {
   "cell_type": "markdown",
   "id": "507f2944-ad95-45ad-a5a0-a27ec40fc2a6",
   "metadata": {},
   "source": [
    "## Tuning Hidden Layers with LBFGS Solver"
   ]
  },
  {
   "cell_type": "code",
   "execution_count": 19,
   "id": "fff550f8-b42f-475c-8700-d620a6788b80",
   "metadata": {},
   "outputs": [
    {
     "name": "stderr",
     "output_type": "stream",
     "text": [
      "/srv/conda/envs/notebook/lib/python3.9/site-packages/sklearn/neural_network/_multilayer_perceptron.py:549: ConvergenceWarning: lbfgs failed to converge (status=1):\n",
      "STOP: TOTAL NO. of ITERATIONS REACHED LIMIT.\n",
      "\n",
      "Increase the number of iterations (max_iter) or scale the data as shown in:\n",
      "    https://scikit-learn.org/stable/modules/preprocessing.html\n",
      "  self.n_iter_ = _check_optimize_result(\"lbfgs\", opt_res, self.max_iter)\n",
      "/srv/conda/envs/notebook/lib/python3.9/site-packages/sklearn/neural_network/_multilayer_perceptron.py:549: ConvergenceWarning: lbfgs failed to converge (status=1):\n",
      "STOP: TOTAL NO. of ITERATIONS REACHED LIMIT.\n",
      "\n",
      "Increase the number of iterations (max_iter) or scale the data as shown in:\n",
      "    https://scikit-learn.org/stable/modules/preprocessing.html\n",
      "  self.n_iter_ = _check_optimize_result(\"lbfgs\", opt_res, self.max_iter)\n",
      "/srv/conda/envs/notebook/lib/python3.9/site-packages/sklearn/neural_network/_multilayer_perceptron.py:549: ConvergenceWarning: lbfgs failed to converge (status=1):\n",
      "STOP: TOTAL NO. of ITERATIONS REACHED LIMIT.\n",
      "\n",
      "Increase the number of iterations (max_iter) or scale the data as shown in:\n",
      "    https://scikit-learn.org/stable/modules/preprocessing.html\n",
      "  self.n_iter_ = _check_optimize_result(\"lbfgs\", opt_res, self.max_iter)\n"
     ]
    }
   ],
   "source": [
    "results_list = []\n",
    "for hidden_layers in range(1,10,1):\n",
    "    mlp = MLPRegressor(hidden_layer_sizes = (100,)*hidden_layers, \n",
    "                  solver = 'lbfgs',\n",
    "                  max_iter = 2000,\n",
    "                  random_state = 1)\n",
    "    accuracy_results = cross_val_score(mlp, \n",
    "                                       X_train, \n",
    "                                       y_train,\n",
    "                                       cv=5)\n",
    "    results_list.append([hidden_layers, 100 * np.mean(accuracy_results)])\n",
    "    \n",
    "df_results_list_mlp = pd.DataFrame(results_list, columns=[\"hidden_layers\", \"Score\"])"
   ]
  },
  {
   "cell_type": "code",
   "execution_count": 20,
   "id": "de85a12b-dbc4-45e4-965f-bb4af324c3a7",
   "metadata": {},
   "outputs": [
    {
     "data": {
      "text/plain": [
       "Text(0, 0.5, 'Score')"
      ]
     },
     "execution_count": 20,
     "metadata": {},
     "output_type": "execute_result"
    },
    {
     "data": {
      "image/png": "[encoded data removed]",
      "text/plain": [
       "<Figure size 432x288 with 1 Axes>"
      ]
     },
     "metadata": {
      "needs_background": "light"
     },
     "output_type": "display_data"
    }
   ],
   "source": [
    "fig, ax = plt.subplots()\n",
    "df_results_list_mlp.set_index(\"hidden_layers\")[\"Score\"].plot(ax = ax)\n",
    "ax.set_title(\"Accuracy of Neural Net Model with Different Hidden Layers\")\n",
    "ax.set_xticks(list(range(1,10,1)))\n",
    "ax.set_ylabel(\"Score\")"
   ]
  },
  {
   "cell_type": "markdown",
   "id": "8de48dad-fa0f-41ff-9a38-57d135b160db",
   "metadata": {},
   "source": [
    "## Tuning Number of Nodes"
   ]
  },
  {
   "cell_type": "code",
   "execution_count": 21,
   "id": "d3f3d6a0-0055-496e-8558-5b9abd37b1fe",
   "metadata": {},
   "outputs": [
    {
     "name": "stderr",
     "output_type": "stream",
     "text": [
      "/srv/conda/envs/notebook/lib/python3.9/site-packages/sklearn/neural_network/_multilayer_perceptron.py:549: ConvergenceWarning: lbfgs failed to converge (status=1):\n",
      "STOP: TOTAL NO. of ITERATIONS REACHED LIMIT.\n",
      "\n",
      "Increase the number of iterations (max_iter) or scale the data as shown in:\n",
      "    https://scikit-learn.org/stable/modules/preprocessing.html\n",
      "  self.n_iter_ = _check_optimize_result(\"lbfgs\", opt_res, self.max_iter)\n",
      "/srv/conda/envs/notebook/lib/python3.9/site-packages/sklearn/neural_network/_multilayer_perceptron.py:549: ConvergenceWarning: lbfgs failed to converge (status=1):\n",
      "STOP: TOTAL NO. of ITERATIONS REACHED LIMIT.\n",
      "\n",
      "Increase the number of iterations (max_iter) or scale the data as shown in:\n",
      "    https://scikit-learn.org/stable/modules/preprocessing.html\n",
      "  self.n_iter_ = _check_optimize_result(\"lbfgs\", opt_res, self.max_iter)\n",
      "/srv/conda/envs/notebook/lib/python3.9/site-packages/sklearn/neural_network/_multilayer_perceptron.py:549: ConvergenceWarning: lbfgs failed to converge (status=1):\n",
      "STOP: TOTAL NO. of ITERATIONS REACHED LIMIT.\n",
      "\n",
      "Increase the number of iterations (max_iter) or scale the data as shown in:\n",
      "    https://scikit-learn.org/stable/modules/preprocessing.html\n",
      "  self.n_iter_ = _check_optimize_result(\"lbfgs\", opt_res, self.max_iter)\n",
      "/srv/conda/envs/notebook/lib/python3.9/site-packages/sklearn/neural_network/_multilayer_perceptron.py:549: ConvergenceWarning: lbfgs failed to converge (status=1):\n",
      "STOP: TOTAL NO. of ITERATIONS REACHED LIMIT.\n",
      "\n",
      "Increase the number of iterations (max_iter) or scale the data as shown in:\n",
      "    https://scikit-learn.org/stable/modules/preprocessing.html\n",
      "  self.n_iter_ = _check_optimize_result(\"lbfgs\", opt_res, self.max_iter)\n",
      "/srv/conda/envs/notebook/lib/python3.9/site-packages/sklearn/neural_network/_multilayer_perceptron.py:549: ConvergenceWarning: lbfgs failed to converge (status=1):\n",
      "STOP: TOTAL NO. of ITERATIONS REACHED LIMIT.\n",
      "\n",
      "Increase the number of iterations (max_iter) or scale the data as shown in:\n",
      "    https://scikit-learn.org/stable/modules/preprocessing.html\n",
      "  self.n_iter_ = _check_optimize_result(\"lbfgs\", opt_res, self.max_iter)\n",
      "/srv/conda/envs/notebook/lib/python3.9/site-packages/sklearn/neural_network/_multilayer_perceptron.py:549: ConvergenceWarning: lbfgs failed to converge (status=1):\n",
      "STOP: TOTAL NO. of ITERATIONS REACHED LIMIT.\n",
      "\n",
      "Increase the number of iterations (max_iter) or scale the data as shown in:\n",
      "    https://scikit-learn.org/stable/modules/preprocessing.html\n",
      "  self.n_iter_ = _check_optimize_result(\"lbfgs\", opt_res, self.max_iter)\n"
     ]
    }
   ],
   "source": [
    "results_list = []\n",
    "for num_nodes in range(1,200,10):\n",
    "    hidden_layers = 2\n",
    "    mlp = MLPRegressor(hidden_layer_sizes = (num_nodes,)*hidden_layers, \n",
    "                  solver = 'lbfgs',\n",
    "                  max_iter = 2000,\n",
    "                  random_state = 1)\n",
    "    accuracy_results = cross_val_score(mlp, \n",
    "                                       X_train, \n",
    "                                       y_train,\n",
    "                                       cv=5)\n",
    "    results_list.append([num_nodes, 100 * np.mean(accuracy_results)])\n",
    "    \n",
    "df_results_list_mlp = pd.DataFrame(results_list, columns=[\"hidden_layers\", \"Score\"])"
   ]
  },
  {
   "cell_type": "code",
   "execution_count": 22,
   "id": "04ce5ebe-4209-4bb4-88ec-7b9350a02216",
   "metadata": {},
   "outputs": [
    {
     "data": {
      "text/plain": [
       "Text(0, 0.5, 'Score')"
      ]
     },
     "execution_count": 22,
     "metadata": {},
     "output_type": "execute_result"
    },
    {
     "data": {
      "image/png": "[encoded data removed]",
      "text/plain": [
       "<Figure size 432x288 with 1 Axes>"
      ]
     },
     "metadata": {
      "needs_background": "light"
     },
     "output_type": "display_data"
    }
   ],
   "source": [
    "fig, ax = plt.subplots()\n",
    "df_results_list_mlp.set_index(\"hidden_layers\")[\"Score\"].plot(ax = ax)\n",
    "ax.set_title(\"Accuracy of Neural Net Model with Different Hidden Layers\")\n",
    "ax.set_xticks(list(range(1,5,1)))\n",
    "ax.set_ylabel(\"Score\")"
   ]
  },
  {
   "cell_type": "markdown",
   "id": "400cfc92-8c5b-46ca-92b1-440d940b0b79",
   "metadata": {},
   "source": [
    "## Adaboost Model"
   ]
  },
  {
   "cell_type": "markdown",
   "id": "dcff8a1c-3f66-44d0-a47a-710164a4895d",
   "metadata": {},
   "source": [
    "### Tuning N Estimators"
   ]
  },
  {
   "cell_type": "code",
   "execution_count": 23,
   "id": "de04961b-7186-43bd-9671-a10d04899365",
   "metadata": {},
   "outputs": [],
   "source": [
    "results_list = []\n",
    "for n_estimator in range(1,50,1):\n",
    "    depth = 3\n",
    "    adaboost = ensemble.AdaBoostRegressor(n_estimators = n_estimator,\n",
    "                                          base_estimator = tree.DecisionTreeRegressor(max_depth= depth))\n",
    "    accuracy_results = cross_val_score(adaboost, \n",
    "                                       X_train, \n",
    "                                       y_train,\n",
    "                                       cv=5)\n",
    "    results_list.append([n_estimator, 100 * np.mean(accuracy_results)])\n",
    "    \n",
    "df_results_list_adaboost = pd.DataFrame(results_list, columns=[\"n_estimators\", \"Acc\"])"
   ]
  },
  {
   "cell_type": "code",
   "execution_count": 24,
   "id": "4e56c4b6-3fbd-4f77-8a86-8e598391f0e1",
   "metadata": {},
   "outputs": [
    {
     "data": {
      "text/plain": [
       "Text(0, 0.5, 'Accuracy / %')"
      ]
     },
     "execution_count": 24,
     "metadata": {},
     "output_type": "execute_result"
    },
    {
     "data": {
      "image/png": "[encoded data removed]",
      "text/plain": [
       "<Figure size 1440x360 with 1 Axes>"
      ]
     },
     "metadata": {
      "needs_background": "light"
     },
     "output_type": "display_data"
    }
   ],
   "source": [
    "fig, ax = plt.subplots(figsize=(20, 5))\n",
    "df_results_list_adaboost.set_index(\"n_estimators\")[\"Acc\"].plot(ax = ax)\n",
    "ax.set_title(\"Regression Results with differemt n_estimator in random forest\")\n",
    "ax.set_xticks(list(range(0,50,1)))\n",
    "ax.set_ylabel(\"Accuracy / %\")"
   ]
  },
  {
   "cell_type": "code",
   "execution_count": 25,
   "id": "cc27336b-e2d3-444b-b852-7c6768a0f8eb",
   "metadata": {},
   "outputs": [],
   "source": [
    "results_list = []\n",
    "for n_estimator in range(1,20,1):\n",
    "    depth = 8\n",
    "    adaboost = ensemble.AdaBoostRegressor(n_estimators = n_estimator,\n",
    "                                                  base_estimator = tree.DecisionTreeRegressor(\n",
    "                                                      max_depth= depth))\n",
    "    accuracy_results = cross_val_score(adaboost, \n",
    "                                       X_train, \n",
    "                                       y_train,\n",
    "                                       cv=5)\n",
    "    results_list.append([n_estimator, 100 * np.mean(accuracy_results)])\n",
    "    \n",
    "df_results_list_adaboost = pd.DataFrame(results_list, columns=[\"n_estimators\", \"Acc\"])"
   ]
  },
  {
   "cell_type": "code",
   "execution_count": 26,
   "id": "51daada5-ddf2-4c66-95ae-6903f5575f07",
   "metadata": {},
   "outputs": [
    {
     "data": {
      "text/plain": [
       "Text(0, 0.5, 'Accuracy / %')"
      ]
     },
     "execution_count": 26,
     "metadata": {},
     "output_type": "execute_result"
    },
    {
     "data": {
      "image/png": "[encoded data removed]",
      "text/plain": [
       "<Figure size 720x360 with 1 Axes>"
      ]
     },
     "metadata": {
      "needs_background": "light"
     },
     "output_type": "display_data"
    }
   ],
   "source": [
    "fig, ax = plt.subplots(figsize=(10, 5))\n",
    "df_results_list_adaboost.set_index(\"n_estimators\")[\"Acc\"].plot(ax = ax)\n",
    "ax.set_title(\"Regression Results with differemt n_estimator in random forest\")\n",
    "ax.set_xticks(list(range(0,20,1)))\n",
    "ax.set_ylabel(\"Accuracy / %\")"
   ]
  },
  {
   "cell_type": "markdown",
   "id": "d9adc42a-dea6-4b96-b51c-9c58a3648b17",
   "metadata": {},
   "source": [
    "### Tuning Max Depth"
   ]
  },
  {
   "cell_type": "code",
   "execution_count": 27,
   "id": "af11bfed-731b-4a6f-9ba2-e6b26c2b300d",
   "metadata": {},
   "outputs": [],
   "source": [
    "results_list = []\n",
    "for depth in range(1,30,1):\n",
    "    n_estimator = 10\n",
    "    adaboost = ensemble.AdaBoostRegressor(n_estimators = n_estimator,\n",
    "                                          base_estimator = tree.DecisionTreeRegressor(max_depth= depth))\n",
    "    accuracy_results = cross_val_score(adaboost, \n",
    "                                       X_train, \n",
    "                                       y_train,\n",
    "                                       cv=5)\n",
    "    results_list.append([depth, 100 * np.mean(accuracy_results)])\n",
    "    \n",
    "df_results_list_adaboost = pd.DataFrame(results_list, columns=[\"max_depths\", \"Acc\"])"
   ]
  },
  {
   "cell_type": "code",
   "execution_count": 28,
   "id": "0a9f2626-5758-445c-bc71-cc6043c7b693",
   "metadata": {},
   "outputs": [
    {
     "data": {
      "text/plain": [
       "Text(0, 0.5, 'Accuracy / %')"
      ]
     },
     "execution_count": 28,
     "metadata": {},
     "output_type": "execute_result"
    },
    {
     "data": {
      "image/png": "[encoded data removed]",
      "text/plain": [
       "<Figure size 432x288 with 1 Axes>"
      ]
     },
     "metadata": {
      "needs_background": "light"
     },
     "output_type": "display_data"
    }
   ],
   "source": [
    "fig, ax = plt.subplots()\n",
    "df_results_list_adaboost.set_index(\"max_depths\")[\"Acc\"].plot(ax = ax)\n",
    "ax.set_title(\"Regression Results with different max depths adaboost\")\n",
    "ax.set_xticks(list(range(0,30,1)))\n",
    "ax.set_ylabel(\"Accuracy / %\")"
   ]
  },
  {
   "cell_type": "markdown",
   "id": "6cf24b13-6a78-4619-a8c9-c9aaceb57af9",
   "metadata": {},
   "source": [
    "### Tuned Adaboost Model\n",
    "- n_estimators = 8\n",
    "- max_depth = 6"
   ]
  },
  {
   "cell_type": "code",
   "execution_count": 29,
   "id": "b3757c37-29e4-467d-ae9d-6331d303e629",
   "metadata": {},
   "outputs": [
    {
     "name": "stdout",
     "output_type": "stream",
     "text": [
      "Tuned model accuracy: 83.1583307081678\n"
     ]
    }
   ],
   "source": [
    "n_estimator = 8\n",
    "depth = 6\n",
    "adaboost = ensemble.AdaBoostRegressor(n_estimators = n_estimator,\n",
    "                                          base_estimator = tree.DecisionTreeRegressor(max_depth = depth))\n",
    "accuracy_results = cross_val_score(adaboost, X_train, y_train, cv=5)\n",
    "\n",
    "print(\"Tuned model accuracy:\",100 * np.mean(accuracy_results))"
   ]
  },
  {
   "cell_type": "markdown",
   "id": "c32e092d-610e-4d59-920d-06a90cc4f9a6",
   "metadata": {},
   "source": [
    "## Model Accuracy"
   ]
  },
  {
   "cell_type": "markdown",
   "id": "b86b351d-9dc8-46d2-8af7-cb5ba1dfd51e",
   "metadata": {},
   "source": [
    "Tinkering with the parameters of the Neural Network Model really only helped the model accuracy marginally. It required a lot of tinkering just to get the model to converge. On the training data this tuned neural net model was about 77% accurate. \n",
    "\n",
    "The adaboost model got a lot better with tinkering. Adding a few more N_estimators and increasing the max depth slightly increased the model accuracy to about 84%."
   ]
  },
  {
   "cell_type": "markdown",
   "id": "9a313dd4-767b-4c0f-ae8f-799b14b8f6a9",
   "metadata": {
    "tags": []
   },
   "source": [
    "## Challenges"
   ]
  },
  {
   "cell_type": "markdown",
   "id": "46910943-273c-4856-96d9-df55013acd15",
   "metadata": {},
   "source": [
    "I ran into the challenge that my model using the 'adam' solver, a form of stocatstic gradient descent', was not converging even after 1000 interations. This is likely due to the smaller dataset that was gathered. Neural networks are especially good on large amounts of data. In this case, we only have about 600 data points, which is probably not large enough for a neural net train enough to obtain a high degree of accuracy. Also, there's no telling which features went into the black box of Redfin's Walk Score. We can only tune the model as well as we have features that explain the target variable. If there is a major feature missing then we will not have an accurate model.  "
   ]
  },
  {
   "cell_type": "markdown",
   "id": "f76bbd8e-497d-4d9a-a121-6acc20623b0c",
   "metadata": {},
   "source": [
    "## Harms of the Model"
   ]
  },
  {
   "cell_type": "markdown",
   "id": "1a7b705b-5964-4f26-b269-7ff9b16207d0",
   "metadata": {},
   "source": [
    "The benefits to the model are that theoretically we could decipher what the Redfin Walk Score uses to calculate the walk score for their properties. If walk scores don't seem accurate to certain groups such as children, the disabled, or the elderly, then we can help adjust the walk score model to be more inclusive. Another potential benefit to this model would be that it is open source. Redfin's model is propreitary. Redfin has to give permission to researchers and third-parties that want to access their algorithm. However, there are ethical implications of trying to replicate and publicize proprietary work. \n",
    "\n",
    "One potential harm is that models like walk scores are difficult to generalize to everyone. Firstly, walk scores alienate the population that cannot walk. In addition, they could be very poor represnations for certain other groups such as children. Another harm is that people will trust too much in a walk score and base a large financial decision on a model that is more meant to be a datapoint. Just because this model or Refin's says that a home has a walk score of 95/100 does not mean that it is better for walking for a specific person's needs and wants than a home with a 60/100 walk score. "
   ]
  },
  {
   "cell_type": "markdown",
   "id": "4f70c947-3769-4bf6-9331-cca0ca406a8f",
   "metadata": {},
   "source": [
    "## Future research"
   ]
  },
  {
   "cell_type": "markdown",
   "id": "a865ece8-046c-4d4a-a186-eb4e5406d5ec",
   "metadata": {},
   "source": [
    "I would really like to have human generated data as the target variable for a model. If I had data from different real people asking them how walkable their current homes are, how often they walk to retail/bars/grocery stores, how long it takes them. Once there's enough data collected through that, I could used a KNN technique to estimate what walk scores would be for their neighbors. "
   ]
  }
 ],
 "metadata": {
  "kernelspec": {
   "display_name": "Python 3 (ipykernel)",
   "language": "python",
   "name": "python3"
  },
  "language_info": {
   "codemirror_mode": {
    "name": "ipython",
    "version": 3
   },
   "file_extension": ".py",
   "mimetype": "text/x-python",
   "name": "python",
   "nbconvert_exporter": "python",
   "pygments_lexer": "ipython3",
   "version": "3.9.7"
  }
 },
 "nbformat": 4,
 "nbformat_minor": 5
}
