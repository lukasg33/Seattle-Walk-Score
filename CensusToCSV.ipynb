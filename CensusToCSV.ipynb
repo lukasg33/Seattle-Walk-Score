{
 "cells": [
  {
   "cell_type": "code",
   "execution_count": 40,
   "id": "f8b883e5-1861-44c9-8089-c1e6d72c978e",
   "metadata": {},
   "outputs": [],
   "source": [
    "# import libraries\n",
    "import geopandas as gpd\n",
    "import pandas as pd\n",
    "import numpy as np\n",
    "import seaborn as sns\n",
    "import time\n",
    "import json\n",
    "import matplotlib.pyplot as plt\n",
    "from shapely import wkt\n",
    "#import pysal as ps\n",
    "import shapefile\n",
    "import censusdata\n",
    "import censusgeocode as cg\n",
    "import requests"
   ]
  },
  {
   "cell_type": "code",
   "execution_count": 41,
   "id": "1e4c386d-0734-441f-aea6-96904ddcd4ea",
   "metadata": {},
   "outputs": [],
   "source": [
    "#!pip install censusdata"
   ]
  },
  {
   "cell_type": "code",
   "execution_count": 42,
   "id": "c31f39cb-a8d5-491c-9ac9-6cecd28b9c90",
   "metadata": {},
   "outputs": [],
   "source": [
    "#!pip install censusgeocode"
   ]
  },
  {
   "cell_type": "code",
   "execution_count": 43,
   "id": "24e9827f-04e7-4598-b2ba-11a71b250215",
   "metadata": {},
   "outputs": [
    {
     "data": {
      "text/html": [
       "<div>\n",
       "<style scoped>\n",
       "    .dataframe tbody tr th:only-of-type {\n",
       "        vertical-align: middle;\n",
       "    }\n",
       "\n",
       "    .dataframe tbody tr th {\n",
       "        vertical-align: top;\n",
       "    }\n",
       "\n",
       "    .dataframe thead th {\n",
       "        text-align: right;\n",
       "    }\n",
       "</style>\n",
       "<table border=\"1\" class=\"dataframe\">\n",
       "  <thead>\n",
       "    <tr style=\"text-align: right;\">\n",
       "      <th></th>\n",
       "      <th>OBJECTID_1</th>\n",
       "      <th>GEOID_20</th>\n",
       "      <th>TRACT_20_N</th>\n",
       "      <th>TRACT_20_L</th>\n",
       "      <th>TRACT_20</th>\n",
       "      <th>F1990_PL_d</th>\n",
       "      <th>F1990_PL_1</th>\n",
       "      <th>F1990_PL_2</th>\n",
       "      <th>F1990_PL_3</th>\n",
       "      <th>F1990_PL_4</th>\n",
       "      <th>...</th>\n",
       "      <th>F2020_PL22</th>\n",
       "      <th>F2020_PL23</th>\n",
       "      <th>F2020_PL24</th>\n",
       "      <th>F2020_PL25</th>\n",
       "      <th>F2020_PL26</th>\n",
       "      <th>AREA_ACRES</th>\n",
       "      <th>AREA_SQMI</th>\n",
       "      <th>Shape__Are</th>\n",
       "      <th>Shape__Len</th>\n",
       "      <th>geometry</th>\n",
       "    </tr>\n",
       "  </thead>\n",
       "  <tbody>\n",
       "    <tr>\n",
       "      <th>0</th>\n",
       "      <td>1</td>\n",
       "      <td>53033000101</td>\n",
       "      <td>Census Tract 1.01</td>\n",
       "      <td>1.01</td>\n",
       "      <td>101</td>\n",
       "      <td>2145</td>\n",
       "      <td>1419</td>\n",
       "      <td>210</td>\n",
       "      <td>41</td>\n",
       "      <td>374</td>\n",
       "      <td>...</td>\n",
       "      <td>2040</td>\n",
       "      <td>1902</td>\n",
       "      <td>138</td>\n",
       "      <td>33</td>\n",
       "      <td>0</td>\n",
       "      <td>102.503713</td>\n",
       "      <td>0.160162</td>\n",
       "      <td>4.465062e+06</td>\n",
       "      <td>8662.10098</td>\n",
       "      <td>POLYGON ((-122.29654 47.73198, -122.29653 47.7...</td>\n",
       "    </tr>\n",
       "  </tbody>\n",
       "</table>\n",
       "<p>1 rows × 113 columns</p>\n",
       "</div>"
      ],
      "text/plain": [
       "   OBJECTID_1     GEOID_20         TRACT_20_N TRACT_20_L  TRACT_20  \\\n",
       "0           1  53033000101  Census Tract 1.01       1.01       101   \n",
       "\n",
       "   F1990_PL_d  F1990_PL_1  F1990_PL_2  F1990_PL_3  F1990_PL_4  ...  \\\n",
       "0        2145        1419         210          41         374  ...   \n",
       "\n",
       "   F2020_PL22  F2020_PL23  F2020_PL24  F2020_PL25  F2020_PL26  AREA_ACRES  \\\n",
       "0        2040        1902         138          33           0  102.503713   \n",
       "\n",
       "   AREA_SQMI    Shape__Are  Shape__Len  \\\n",
       "0   0.160162  4.465062e+06  8662.10098   \n",
       "\n",
       "                                            geometry  \n",
       "0  POLYGON ((-122.29654 47.73198, -122.29653 47.7...  \n",
       "\n",
       "[1 rows x 113 columns]"
      ]
     },
     "execution_count": 43,
     "metadata": {},
     "output_type": "execute_result"
    }
   ],
   "source": [
    "#import all Seattle census tracts\n",
    "tracts = gpd.read_file(\"Census Tract Data 2020/Census_2020_Tracts_with_PL_94-171_Redistricting__Data_for_1990-2020.shp\")\n",
    "tracts.head(1)"
   ]
  },
  {
   "cell_type": "code",
   "execution_count": 44,
   "id": "876826cc-240f-4932-bb52-5e811e112ca5",
   "metadata": {},
   "outputs": [
    {
     "name": "stdout",
     "output_type": "stream",
     "text": [
      "epsg:4326\n"
     ]
    }
   ],
   "source": [
    "print(tracts.crs)"
   ]
  },
  {
   "cell_type": "code",
   "execution_count": 45,
   "id": "117ae2d3-bec0-404e-828a-f4cb714a2cca",
   "metadata": {},
   "outputs": [],
   "source": [
    "tract = tracts.to_crs('epsg:2927')"
   ]
  },
  {
   "cell_type": "code",
   "execution_count": 46,
   "id": "c1e21a99-4c2a-4f6d-b9bc-5a8c31c21b06",
   "metadata": {},
   "outputs": [
    {
     "data": {
      "text/plain": [
       "['OBJECTID_1',\n",
       " 'GEOID_20',\n",
       " 'TRACT_20_N',\n",
       " 'TRACT_20_L',\n",
       " 'TRACT_20',\n",
       " 'F1990_PL_d',\n",
       " 'F1990_PL_1',\n",
       " 'F1990_PL_2',\n",
       " 'F1990_PL_3',\n",
       " 'F1990_PL_4',\n",
       " 'F1990_PL_5',\n",
       " 'F1990_PL_6',\n",
       " 'F1990_PL_7',\n",
       " 'F1990_PL_8',\n",
       " 'F1990_PL_9',\n",
       " 'F1990_PL10',\n",
       " 'F1990_PL11',\n",
       " 'F1990_PL12',\n",
       " 'F1990_PL13',\n",
       " 'F1990_PL14',\n",
       " 'F1990_PL15',\n",
       " 'F1990_PL16',\n",
       " 'F1990_PL17',\n",
       " 'F1990_PL18',\n",
       " 'F1990_PL19',\n",
       " 'F1990_PL20',\n",
       " 'F1990_PL21',\n",
       " 'F2000_PL_d',\n",
       " 'F2000_PL_1',\n",
       " 'F2000_PL_2',\n",
       " 'F2000_PL_3',\n",
       " 'F2000_PL_4',\n",
       " 'F2000_PL_5',\n",
       " 'F2000_PL_6',\n",
       " 'F2000_PL_7',\n",
       " 'F2000_PL_8',\n",
       " 'F2000_PL_9',\n",
       " 'F2000_PL10',\n",
       " 'F2000_PL11',\n",
       " 'F2000_PL12',\n",
       " 'F2000_PL13',\n",
       " 'F2000_PL14',\n",
       " 'F2000_PL15',\n",
       " 'F2000_PL16',\n",
       " 'F2000_PL17',\n",
       " 'F2000_PL18',\n",
       " 'F2000_PL19',\n",
       " 'F2000_PL20',\n",
       " 'F2000_PL21',\n",
       " 'F2000_PL22',\n",
       " 'F2000_PL23',\n",
       " 'F2000_PL24',\n",
       " 'F2000_PL25',\n",
       " 'F2000_PL26',\n",
       " 'F2010_PL_d',\n",
       " 'F2010_PL_1',\n",
       " 'F2010_PL_2',\n",
       " 'F2010_PL_3',\n",
       " 'F2010_PL_4',\n",
       " 'F2010_PL_5',\n",
       " 'F2010_PL_6',\n",
       " 'F2010_PL_7',\n",
       " 'F2010_PL_8',\n",
       " 'F2010_PL_9',\n",
       " 'F2010_PL10',\n",
       " 'F2010_PL11',\n",
       " 'F2010_PL12',\n",
       " 'F2010_PL13',\n",
       " 'F2010_PL14',\n",
       " 'F2010_PL15',\n",
       " 'F2010_PL16',\n",
       " 'F2010_PL17',\n",
       " 'F2010_PL18',\n",
       " 'F2010_PL19',\n",
       " 'F2010_PL20',\n",
       " 'F2010_PL21',\n",
       " 'F2010_PL22',\n",
       " 'F2010_PL23',\n",
       " 'F2010_PL24',\n",
       " 'F2010_PL25',\n",
       " 'F2010_PL26',\n",
       " 'F2020_PL_d',\n",
       " 'F2020_PL_1',\n",
       " 'F2020_PL_2',\n",
       " 'F2020_PL_3',\n",
       " 'F2020_PL_4',\n",
       " 'F2020_PL_5',\n",
       " 'F2020_PL_6',\n",
       " 'F2020_PL_7',\n",
       " 'F2020_PL_8',\n",
       " 'F2020_PL_9',\n",
       " 'F2020_PL10',\n",
       " 'F2020_PL11',\n",
       " 'F2020_PL12',\n",
       " 'F2020_PL13',\n",
       " 'F2020_PL14',\n",
       " 'F2020_PL15',\n",
       " 'F2020_PL16',\n",
       " 'F2020_PL17',\n",
       " 'F2020_PL18',\n",
       " 'F2020_PL19',\n",
       " 'F2020_PL20',\n",
       " 'F2020_PL21',\n",
       " 'F2020_PL22',\n",
       " 'F2020_PL23',\n",
       " 'F2020_PL24',\n",
       " 'F2020_PL25',\n",
       " 'F2020_PL26',\n",
       " 'AREA_ACRES',\n",
       " 'AREA_SQMI',\n",
       " 'Shape__Are',\n",
       " 'Shape__Len',\n",
       " 'geometry']"
      ]
     },
     "execution_count": 46,
     "metadata": {},
     "output_type": "execute_result"
    }
   ],
   "source": [
    "tract.columns.to_list()"
   ]
  },
  {
   "cell_type": "code",
   "execution_count": 47,
   "id": "44fb5902-2344-4201-aaf8-bce1c4e67c68",
   "metadata": {},
   "outputs": [],
   "source": [
    "tract_df = tract[[\"GEOID_20\",\"F2020_PL_d\",\"AREA_ACRES\",\"TRACT_20\",\"geometry\"]]"
   ]
  },
  {
   "cell_type": "code",
   "execution_count": 48,
   "id": "a9a0d6a0-0c75-459d-a38a-faa9565ef61e",
   "metadata": {},
   "outputs": [],
   "source": [
    "tract_df = tract_df.rename(index=str, columns = {'GEOID_20': 'GEOID','F2020_PL_d': 'population', 'TRACT_20': 'tract'})\n"
   ]
  },
  {
   "cell_type": "code",
   "execution_count": 49,
   "id": "3d42cae5-41be-4fb2-8e27-c697cdb9a0c6",
   "metadata": {},
   "outputs": [
    {
     "data": {
      "text/html": [
       "<div>\n",
       "<style scoped>\n",
       "    .dataframe tbody tr th:only-of-type {\n",
       "        vertical-align: middle;\n",
       "    }\n",
       "\n",
       "    .dataframe tbody tr th {\n",
       "        vertical-align: top;\n",
       "    }\n",
       "\n",
       "    .dataframe thead th {\n",
       "        text-align: right;\n",
       "    }\n",
       "</style>\n",
       "<table border=\"1\" class=\"dataframe\">\n",
       "  <thead>\n",
       "    <tr style=\"text-align: right;\">\n",
       "      <th></th>\n",
       "      <th>GEOID</th>\n",
       "      <th>population</th>\n",
       "      <th>AREA_ACRES</th>\n",
       "      <th>tract</th>\n",
       "      <th>geometry</th>\n",
       "    </tr>\n",
       "  </thead>\n",
       "  <tbody>\n",
       "    <tr>\n",
       "      <th>0</th>\n",
       "      <td>53033000101</td>\n",
       "      <td>3759</td>\n",
       "      <td>102.503713</td>\n",
       "      <td>101</td>\n",
       "      <td>POLYGON ((1198280.286 879815.173, 1198288.869 ...</td>\n",
       "    </tr>\n",
       "    <tr>\n",
       "      <th>1</th>\n",
       "      <td>53033000102</td>\n",
       "      <td>4321</td>\n",
       "      <td>596.442465</td>\n",
       "      <td>102</td>\n",
       "      <td>POLYGON ((1198268.837 877820.803, 1198710.196 ...</td>\n",
       "    </tr>\n",
       "    <tr>\n",
       "      <th>2</th>\n",
       "      <td>53033000201</td>\n",
       "      <td>4416</td>\n",
       "      <td>446.424496</td>\n",
       "      <td>201</td>\n",
       "      <td>POLYGON ((1191537.977 876074.777, 1191548.225 ...</td>\n",
       "    </tr>\n",
       "    <tr>\n",
       "      <th>3</th>\n",
       "      <td>53033000202</td>\n",
       "      <td>4099</td>\n",
       "      <td>365.710684</td>\n",
       "      <td>202</td>\n",
       "      <td>POLYGON ((1194973.723 880600.170, 1195306.262 ...</td>\n",
       "    </tr>\n",
       "    <tr>\n",
       "      <th>4</th>\n",
       "      <td>53033000300</td>\n",
       "      <td>2820</td>\n",
       "      <td>299.225793</td>\n",
       "      <td>300</td>\n",
       "      <td>POLYGON ((1186323.563 880876.512, 1186351.366 ...</td>\n",
       "    </tr>\n",
       "  </tbody>\n",
       "</table>\n",
       "</div>"
      ],
      "text/plain": [
       "         GEOID  population  AREA_ACRES  tract  \\\n",
       "0  53033000101        3759  102.503713    101   \n",
       "1  53033000102        4321  596.442465    102   \n",
       "2  53033000201        4416  446.424496    201   \n",
       "3  53033000202        4099  365.710684    202   \n",
       "4  53033000300        2820  299.225793    300   \n",
       "\n",
       "                                            geometry  \n",
       "0  POLYGON ((1198280.286 879815.173, 1198288.869 ...  \n",
       "1  POLYGON ((1198268.837 877820.803, 1198710.196 ...  \n",
       "2  POLYGON ((1191537.977 876074.777, 1191548.225 ...  \n",
       "3  POLYGON ((1194973.723 880600.170, 1195306.262 ...  \n",
       "4  POLYGON ((1186323.563 880876.512, 1186351.366 ...  "
      ]
     },
     "execution_count": 49,
     "metadata": {},
     "output_type": "execute_result"
    }
   ],
   "source": [
    "tract_df.head()"
   ]
  },
  {
   "cell_type": "code",
   "execution_count": 2,
   "id": "89e62579-fbbc-406b-90bb-7dd4d83859dd",
   "metadata": {},
   "outputs": [
    {
     "ename": "NameError",
     "evalue": "name 'censusdata' is not defined",
     "output_type": "error",
     "traceback": [
      "\u001b[0;31m---------------------------------------------------------------------------\u001b[0m",
      "\u001b[0;31mNameError\u001b[0m                                 Traceback (most recent call last)",
      "\u001b[0;32m/tmp/ipykernel_239/930355017.py\u001b[0m in \u001b[0;36m<module>\u001b[0;34m\u001b[0m\n\u001b[0;32m----> 1\u001b[0;31m \u001b[0mcensusdata\u001b[0m\u001b[0;34m.\u001b[0m\u001b[0mdownload\u001b[0m\u001b[0;34m(\u001b[0m\u001b[0;34m'acs5'\u001b[0m\u001b[0;34m,\u001b[0m \u001b[0;36m2019\u001b[0m\u001b[0;34m,\u001b[0m \u001b[0mcensusdata\u001b[0m\u001b[0;34m.\u001b[0m\u001b[0mcensusgeo\u001b[0m\u001b[0;34m(\u001b[0m\u001b[0;34m[\u001b[0m\u001b[0;34m(\u001b[0m\u001b[0;34m'state'\u001b[0m\u001b[0;34m,\u001b[0m \u001b[0;34m'53'\u001b[0m\u001b[0;34m)\u001b[0m\u001b[0;34m,\u001b[0m \u001b[0;34m(\u001b[0m\u001b[0;34m'county'\u001b[0m\u001b[0;34m,\u001b[0m \u001b[0;34m'033'\u001b[0m\u001b[0;34m)\u001b[0m\u001b[0;34m,\u001b[0m \u001b[0;34m(\u001b[0m\u001b[0;34m'block group'\u001b[0m\u001b[0;34m,\u001b[0m \u001b[0;34m'*'\u001b[0m\u001b[0;34m)\u001b[0m\u001b[0;34m]\u001b[0m\u001b[0;34m)\u001b[0m\u001b[0;34m,\u001b[0m \u001b[0;34m[\u001b[0m\u001b[0;34m'B01001_001E'\u001b[0m\u001b[0;34m,\u001b[0m \u001b[0;34m'B01002_001E'\u001b[0m\u001b[0;34m,\u001b[0m \u001b[0;34m'B19013_001E'\u001b[0m\u001b[0;34m]\u001b[0m\u001b[0;34m)\u001b[0m\u001b[0;34m\u001b[0m\u001b[0;34m\u001b[0m\u001b[0m\n\u001b[0m",
      "\u001b[0;31mNameError\u001b[0m: name 'censusdata' is not defined"
     ]
    }
   ],
   "source": [
    "censusdata.download('acs5', 2019, censusdata.censusgeo([('state', '53'), ('county', '033'), ('block group', '*')]), ['B01001_001E', 'B01002_001E', 'B19013_001E'])"
   ]
  },
  {
   "cell_type": "code",
   "execution_count": 10,
   "id": "499a7404-ed10-4224-8d00-148938f8c84a",
   "metadata": {},
   "outputs": [
    {
     "data": {
      "text/plain": [
       "{'King County, Washington': censusgeo((('state', '53'), ('county', '033')))}"
      ]
     },
     "execution_count": 10,
     "metadata": {},
     "output_type": "execute_result"
    }
   ],
   "source": [
    "censusdata.geographies(censusdata.censusgeo([('state', '53'), ('county', '033')]), 'acs5', 2019)"
   ]
  },
  {
   "cell_type": "code",
   "execution_count": 11,
   "id": "cb897941-2dc1-426b-bb4f-4e112f201b14",
   "metadata": {},
   "outputs": [],
   "source": [
    "# Download ACS 2013-2017 5-year estimates for King County, Washington.\n",
    "kingcounty = censusdata.download('acs5', 2019, censusdata.censusgeo([('state', '53'), ('county', '033'), ('block group', '*')]),\n",
    "                                   ['B01001_001E', 'B01001_020E', 'B01001_021E', 'B01001_022E', 'B01001_023E',\n",
    "                                    'B01001_024E', 'B01001_025E', 'B01001_044E', 'B01001_045E', 'B01001_046E',\n",
    "                                    'B01001_047E', 'B01001_048E', 'B01001_049E'])"
   ]
  },
  {
   "cell_type": "code",
   "execution_count": 14,
   "id": "0dfcaeb5-d054-4232-99d0-6b780c52bbc9",
   "metadata": {},
   "outputs": [
    {
     "data": {
      "text/html": [
       "<div>\n",
       "<style scoped>\n",
       "    .dataframe tbody tr th:only-of-type {\n",
       "        vertical-align: middle;\n",
       "    }\n",
       "\n",
       "    .dataframe tbody tr th {\n",
       "        vertical-align: top;\n",
       "    }\n",
       "\n",
       "    .dataframe thead th {\n",
       "        text-align: right;\n",
       "    }\n",
       "</style>\n",
       "<table border=\"1\" class=\"dataframe\">\n",
       "  <thead>\n",
       "    <tr style=\"text-align: right;\">\n",
       "      <th></th>\n",
       "      <th>B01001_001E</th>\n",
       "      <th>B01001_020E</th>\n",
       "      <th>B01001_021E</th>\n",
       "      <th>B01001_022E</th>\n",
       "      <th>B01001_023E</th>\n",
       "      <th>B01001_024E</th>\n",
       "      <th>B01001_025E</th>\n",
       "      <th>B01001_044E</th>\n",
       "      <th>B01001_045E</th>\n",
       "      <th>B01001_046E</th>\n",
       "      <th>B01001_047E</th>\n",
       "      <th>B01001_048E</th>\n",
       "      <th>B01001_049E</th>\n",
       "      <th>state</th>\n",
       "      <th>county</th>\n",
       "      <th>tract</th>\n",
       "      <th>block group</th>\n",
       "      <th>NAME</th>\n",
       "    </tr>\n",
       "  </thead>\n",
       "  <tbody>\n",
       "    <tr>\n",
       "      <th>Block Group 2, Census Tract 257.02, King County, Washington: Summary level: 150, state:53&gt; county:033&gt; tract:025702&gt; block group:2</th>\n",
       "      <td>1073</td>\n",
       "      <td>0</td>\n",
       "      <td>22</td>\n",
       "      <td>20</td>\n",
       "      <td>17</td>\n",
       "      <td>10</td>\n",
       "      <td>10</td>\n",
       "      <td>12</td>\n",
       "      <td>40</td>\n",
       "      <td>21</td>\n",
       "      <td>5</td>\n",
       "      <td>40</td>\n",
       "      <td>15</td>\n",
       "      <td>53</td>\n",
       "      <td>033</td>\n",
       "      <td>025702</td>\n",
       "      <td>2</td>\n",
       "      <td>Block Group 2, Census Tract 257.02, King Count...</td>\n",
       "    </tr>\n",
       "  </tbody>\n",
       "</table>\n",
       "</div>"
      ],
      "text/plain": [
       "                                                    B01001_001E  B01001_020E  \\\n",
       "Block Group 2, Census Tract 257.02, King County...         1073            0   \n",
       "\n",
       "                                                    B01001_021E  B01001_022E  \\\n",
       "Block Group 2, Census Tract 257.02, King County...           22           20   \n",
       "\n",
       "                                                    B01001_023E  B01001_024E  \\\n",
       "Block Group 2, Census Tract 257.02, King County...           17           10   \n",
       "\n",
       "                                                    B01001_025E  B01001_044E  \\\n",
       "Block Group 2, Census Tract 257.02, King County...           10           12   \n",
       "\n",
       "                                                    B01001_045E  B01001_046E  \\\n",
       "Block Group 2, Census Tract 257.02, King County...           40           21   \n",
       "\n",
       "                                                    B01001_047E  B01001_048E  \\\n",
       "Block Group 2, Census Tract 257.02, King County...            5           40   \n",
       "\n",
       "                                                    B01001_049E state county  \\\n",
       "Block Group 2, Census Tract 257.02, King County...           15    53    033   \n",
       "\n",
       "                                                     tract block group  \\\n",
       "Block Group 2, Census Tract 257.02, King County...  025702           2   \n",
       "\n",
       "                                                                                                 NAME  \n",
       "Block Group 2, Census Tract 257.02, King County...  Block Group 2, Census Tract 257.02, King Count...  "
      ]
     },
     "execution_count": 14,
     "metadata": {},
     "output_type": "execute_result"
    }
   ],
   "source": [
    "kingcounty.head(1)"
   ]
  },
  {
   "cell_type": "code",
   "execution_count": 13,
   "id": "5f19231a-6b66-4929-87b5-eef52658b460",
   "metadata": {},
   "outputs": [],
   "source": [
    "# export census dataframe\n",
    "censusdata.export.exportcsv('Data/sea_census.csv', kingcounty)"
   ]
  },
  {
   "cell_type": "code",
   "execution_count": null,
   "id": "f70a7616-4f96-4afb-9b3e-be17009a71de",
   "metadata": {},
   "outputs": [],
   "source": []
  },
  {
   "cell_type": "code",
   "execution_count": 51,
   "id": "fa657d9d-44b0-4a2b-82fd-13ed137a5f9d",
   "metadata": {},
   "outputs": [],
   "source": [
    "tract_df.to_csv('Data/all_demographics.csv')"
   ]
  },
  {
   "cell_type": "code",
   "execution_count": null,
   "id": "f726ea67-786d-4764-aba5-929073a4c4d4",
   "metadata": {},
   "outputs": [],
   "source": []
  }
 ],
 "metadata": {
  "kernelspec": {
   "display_name": "Python 3 (ipykernel)",
   "language": "python",
   "name": "python3"
  },
  "language_info": {
   "codemirror_mode": {
    "name": "ipython",
    "version": 3
   },
   "file_extension": ".py",
   "mimetype": "text/x-python",
   "name": "python",
   "nbconvert_exporter": "python",
   "pygments_lexer": "ipython3",
   "version": "3.9.7"
  }
 },
 "nbformat": 4,
 "nbformat_minor": 5
}
